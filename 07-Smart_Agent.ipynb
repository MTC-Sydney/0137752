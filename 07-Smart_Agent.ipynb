{
 "cells": [
  {
   "cell_type": "markdown",
   "id": "6423f8f3-a592-4ee7-9969-39e38933be52",
   "metadata": {},
   "source": [
    "# Putting it all together"
   ]
  },
  {
   "cell_type": "markdown",
   "id": "06bf854d-94d7-4a65-952a-22c7999a9a9b",
   "metadata": {},
   "source": [
    "So far we have done the following on the prior Notebooks:\n",
    "\n",
    "- **Notebook 01**: We loaded the Azure Search Engine with enriched PDFs in index: \"cogsrch-index-files\"\n",
    "- **Notebook 02**: We loaded more information to the Search Engine this time using a CSV file with 52k rows/articles in index: \"cogsrch-index-csv\"\n",
    "- **Notebook 03**: We added AzureOpenAI GPT models to enhance the the production of the answer bu using Utility Chains of LLMs\n",
    "- **Notebook 04**: We added memory to our system in order to power a conversational Chat Bot\n",
    "- **Notebook 05**: We introduced Agents and Tools in order to be able to solve a more complex task: ask questions to Tabular datasets\n",
    "- **Notebook 06**: We used a Utility Chain in order to talk to a SQL Database directly\n",
    "\n",
    "We are missing one more thing: **How do we glue all these features together into a very smart GPT Smart Search Engine Chat Bot?**\n",
    "\n",
    "We want a virtual assistant for our company that can get the question, think what tool to use, then get the answer. The goal is that, regardless of the source of the information (Search Engine, Bing Search, SQL Database, CSV File, JSON File, etc), the Assistant can answer the question correctly using the right tool.\n",
    "\n",
    "In this Notebook we are going to create that \"brain\" Agent, that will understand the question and use the right tool to get the answer from the right source.\n",
    "\n",
    "Let's go.."
   ]
  },
  {
   "cell_type": "code",
   "execution_count": 1,
   "id": "30b81551-92ac-4f08-9c00-ba11981c67c2",
   "metadata": {},
   "outputs": [],
   "source": [
    "import os\n",
    "from langchain.chat_models import AzureChatOpenAI\n",
    "from langchain.utilities import BingSearchAPIWrapper\n",
    "from langchain.agents import initialize_agent\n",
    "from langchain.agents import AgentType\n",
    "from langchain.agents import AgentType, Tool, initialize_agent, tool\n",
    "from langchain.memory import ConversationBufferMemory\n",
    "from langchain.tools import BaseTool\n",
    "\n",
    "from IPython.display import Markdown, HTML, display  \n",
    "\n",
    "def printmd(string):\n",
    "    display(Markdown(string))\n",
    "\n",
    "#custom libraries that we will use later in the app\n",
    "from app.utils import DocSearchWrapper, CSVTabularWrapper, SQLDbWrapper, ChatGPTWrapper\n",
    "\n",
    "# Don't mess with this unless you really know what you are doing\n",
    "AZURE_SEARCH_API_VERSION = '2021-04-30-Preview'\n",
    "AZURE_OPENAI_API_VERSION = \"2023-03-15-preview\"\n",
    "BING_SEARCH_URL = \"https://api.bing.microsoft.com/v7.0/search\"\n",
    "\n",
    "MODEL_DEPLOYMENT_NAME = \"gpt-35-turbo\"\n",
    "\n",
    "Change these below with your own services credentials\n",
    "AZURE_SEARCH_ENDPOINT = \"Enter your Azure Cognitive Search Endpoint ...\"\n",
    "AZURE_SEARCH_KEY = \"Enter your Azure Cognitive Search Key ...\"\n",
    "AZURE_OPENAI_ENDPOINT = \"Enter your Azure OpenAI Endpoint ...\"\n",
    "AZURE_OPENAI_API_KEY = \"Enter your Azure OpenAI Key ...\"\n",
    "BING_SUBSCRIPTION_KEY = \"Enter your Azure Bing Search Subscription Key\""
   ]
  },
  {
   "cell_type": "code",
   "execution_count": 2,
   "id": "67cd1e3e-8527-4a8f-ba90-e700ae7b20ad",
   "metadata": {},
   "outputs": [],
   "source": [
    "os.environ[\"OPENAI_API_BASE\"] = os.environ[\"AZURE_OPENAI_ENDPOINT\"] = AZURE_OPENAI_ENDPOINT\n",
    "os.environ[\"OPENAI_API_KEY\"] = os.environ[\"AZURE_OPENAI_API_KEY\"] = AZURE_OPENAI_API_KEY\n",
    "os.environ[\"OPENAI_API_VERSION\"] = os.environ[\"AZURE_OPENAI_API_VERSION\"] = AZURE_OPENAI_API_VERSION\n",
    "os.environ[\"AZURE_SEARCH_KEY\"] = AZURE_SEARCH_KEY\n",
    "os.environ[\"AZURE_SEARCH_ENDPOINT\"] = AZURE_SEARCH_ENDPOINT\n",
    "os.environ[\"BING_SEARCH_URL\"] =  BING_SEARCH_URL\n",
    "os.environ[\"BING_SUBSCRIPTION_KEY\"] = BING_SUBSCRIPTION_KEY\n",
    "os.environ[\"OPENAI_API_TYPE\"] = \"azure\"\n",
    "os.environ[\"LANGCHAIN_HANDLER\"] = \"langchain\""
   ]
  },
  {
   "cell_type": "markdown",
   "id": "56b56a94-0471-41c3-b441-3a73ff5dedfc",
   "metadata": {},
   "source": [
    "### Get the Tools - Doc Search, CSV Agent, SQL Agent and  Web Search\n",
    "\n",
    "In the file app/utils.py we create a wrapper Class for each of the Functionalities that we developed in prior Notebooks:"
   ]
  },
  {
   "cell_type": "code",
   "execution_count": 3,
   "id": "eafd5bf5-28ee-4edd-978b-384cce057257",
   "metadata": {},
   "outputs": [],
   "source": [
    "# DocSearchWrapper is our Custom Tool Class created for Azure Cognitive Search + OpenAI\n",
    "indexes = [\"cogsrch-index-files\", \"cogsrch-index-csv\"]\n",
    "doc_search = DocSearchWrapper(indexes=indexes,k=5, deployment_name=MODEL_DEPLOYMENT_NAME)"
   ]
  },
  {
   "cell_type": "code",
   "execution_count": 4,
   "id": "0f0ae466-aff8-4cdf-80d3-ef2c61867fc7",
   "metadata": {},
   "outputs": [],
   "source": [
    "# BingSearchAPIWrapper is a langchain Tool class to use the Bing Search API\n",
    "# We will use this to add capabilities to our Engine to search for current information\n",
    "# https://www.microsoft.com/en-us/bing/apis/bing-web-search-api\n",
    "www_search = BingSearchAPIWrapper(k=5)"
   ]
  },
  {
   "cell_type": "code",
   "execution_count": 5,
   "id": "78edb304-c4a2-4f10-8ded-936e9141aa02",
   "metadata": {},
   "outputs": [],
   "source": [
    "## CSVTabularWrapper is a custom Tool class crated to Q&A over CSV files\n",
    "file_url = \"./data/all-states-history.csv\"\n",
    "csv_search = CSVTabularWrapper(path=file_url, deployment_name=MODEL_DEPLOYMENT_NAME)"
   ]
  },
  {
   "cell_type": "code",
   "execution_count": 6,
   "id": "b9d54cc5-41bc-43c3-a91d-12fc3a2446ba",
   "metadata": {},
   "outputs": [],
   "source": [
    "## SQLDbWrapper is a custom Tool class created to Q&A over a MS SQL Database\n",
    "server = '<YOUR_SERVER_NAME>.database.windows.net'\n",
    "database = '<YOUR_DATABASE_NAME>'\n",
    "username = '<YOUR_DB_USERNAME>'\n",
    "password = '<YOUR_DB_PASSWORD>'\n",
    "\n",
    "sql_search = SQLDbWrapper(server=server, database=database,\n",
    "                          username=username, password=password, k=30,\n",
    "                          deployment_name=MODEL_DEPLOYMENT_NAME)"
   ]
  },
  {
   "cell_type": "code",
   "execution_count": 7,
   "id": "2d473bc5-b353-44db-bc83-dde8965edfef",
   "metadata": {},
   "outputs": [],
   "source": [
    "# ChatGPTWrapper is a custom Tool Class to use the pre-trained knowledged of the OpenAI Model (ChatGPT Clone)\n",
    "chatgpt = ChatGPTWrapper(deployment_name=MODEL_DEPLOYMENT_NAME)"
   ]
  },
  {
   "cell_type": "markdown",
   "id": "d9ee1058-debb-4f97-92a4-999e0c4e0386",
   "metadata": {},
   "source": [
    "### Test the Tools"
   ]
  },
  {
   "cell_type": "code",
   "execution_count": 8,
   "id": "dc11cb35-8817-4dd0-b123-27f9eb032f43",
   "metadata": {},
   "outputs": [
    {
     "data": {
      "text/markdown": [
       "No Results Found"
      ],
      "text/plain": [
       "<IPython.core.display.Markdown object>"
      ]
     },
     "metadata": {},
     "output_type": "display_data"
    }
   ],
   "source": [
    "# Test the Documents Search Tool with a question we know it doesn't have the knowledge for\n",
    "printmd(doc_search.run(\"what is the weather today in Dallas?\"))"
   ]
  },
  {
   "cell_type": "code",
   "execution_count": 9,
   "id": "473222f1-b423-49f3-98e7-ab70dcf47bd6",
   "metadata": {},
   "outputs": [
    {
     "name": "stdout",
     "output_type": "stream",
     "text": [
      "Custom token limit for gpt-35-turbo : 3000\n",
      "Combined docs tokens count: 2500\n",
      "Chain Type selected: stuff\n"
     ]
    },
    {
     "data": {
      "text/markdown": [
       "The risk factors for COVID-19 severity and progression include old age, male gender, high body mass index, and underlying comorbidities such as hypertension, diabetes, obesity, chronic lung diseases, heart, liver and kidney diseases, tumors, clinically apparent immunodeficiencies, local immunodeficiencies, such as early type I interferon secretion capacity, and pregnancy. Other possible complications include acute kidney injury, coagulation disorders, thromboembolism, and a cytokine storm. Laboratory indicators of COVID-19 include lymphopenia, eosinopenia, and elevated levels of white blood cell counts, liver enzymes, lactate dehydrogenase, creatine kinase, C-reactive protein, procalcitonin, proinflammatory cytokines such as interleukin (IL)-6, IL-1beta, Krebs von den Lungen-6 (KL-6), and ferritin. Socioeconomic status, diet, lifestyle, geographical differences, ethnicity, exposed viral load, day of initiation of treatment, and quality of health care have also been reported to influence individual outcomes. The sources for this information are: https://demodatasetsp.blob.core.windows.net/litcovid/train.csv"
      ],
      "text/plain": [
       "<IPython.core.display.Markdown object>"
      ]
     },
     "metadata": {},
     "output_type": "display_data"
    }
   ],
   "source": [
    "# Test the Document Search Tool with a question that we know it has the answer for\n",
    "printmd(doc_search.run(\"what are covid risk factors?\"))"
   ]
  },
  {
   "cell_type": "code",
   "execution_count": 10,
   "id": "03839591-553c-46a0-846a-1c4fb96bf851",
   "metadata": {},
   "outputs": [
    {
     "data": {
      "text/markdown": [
       "<b>Dallas</b>, TX <b>Weather</b> Forecast, with current conditions, wind, air quality, and what to expect for the next 3 days. Go Back <b>Dallas</b>, TX 65°F Location Chevron down LocationNewsVideos Use Current... <b>Weather</b> <b>Today</b> <b>in Dallas</b>, TX 79° Feels Like 6:41 am 8:08 pm High / Low 81° / 56° Wind 10 mph Humidity 31% Dew Point 46° Pressure 29.89 in UV Index 9 of 10 Visibility 10 mi Moon Phase Waxing... Hourly <b>Weather</b> Forecast for <b>Dallas</b>, TX - <b>The Weather</b> Channel | <b>Weather</b>.com <b>Today</b> tenDay largeDeviceBannerText Don&#39;t Miss Severe <b>Weather</b> Takes Aim At Texas, Gulf Coast, Florida New COVID... <b>Dallas</b>, TX <b>Weather</b> Conditions | <b>Weather</b> Underground Sensor Network Maps &amp; Radar star Popular Cities San Francisco, CA warning56 °F Partly Cloudy Manhattan, NY warning52 °F Rain Schiller Park,..."
      ],
      "text/plain": [
       "<IPython.core.display.Markdown object>"
      ]
     },
     "metadata": {},
     "output_type": "display_data"
    }
   ],
   "source": [
    "# Test the Bing Search Tool\n",
    "printmd(www_search.run(\"What is the temperature today in Dallas?\"))"
   ]
  },
  {
   "cell_type": "code",
   "execution_count": 11,
   "id": "c809f8d7-2ed9-46d8-a73c-118da063cace",
   "metadata": {},
   "outputs": [
    {
     "name": "stdout",
     "output_type": "stream",
     "text": [
      "\n",
      "\n",
      "\u001b[1m> Entering new SQLDatabaseChain chain...\u001b[0m\n",
      "How many people in total died california in july 2020?\n",
      "SQLQuery:\u001b[32;1m\u001b[1;3mSELECT SUM(death) AS total_deaths\n",
      "FROM covidtracking\n",
      "WHERE state = 'CA' AND date LIKE '2020-07%'\u001b[0m\n",
      "SQLResult: \u001b[33;1m\u001b[1;3m[(229362.0,)]\u001b[0m\n",
      "Answer:\u001b[32;1m\u001b[1;3mThere were 229362 people who died in California in July 2020.\n",
      "Explanation: \n",
      "The query selects the sum of the 'death' column from the 'covidtracking' table where the state is 'CA' and the date is in July 2020. The result is a single value representing the total number of deaths in California in July 2020.\u001b[0m\n",
      "\u001b[1m> Finished chain.\u001b[0m\n"
     ]
    },
    {
     "data": {
      "text/plain": [
       "\"There were 229362 people who died in California in July 2020.\\nExplanation: \\nThe query selects the sum of the 'death' column from the 'covidtracking' table where the state is 'CA' and the date is in July 2020. The result is a single value representing the total number of deaths in California in July 2020.\""
      ]
     },
     "execution_count": 11,
     "metadata": {},
     "output_type": "execute_result"
    }
   ],
   "source": [
    "# Test the SQL Search Tool\n",
    "sql_search.run(\"How many people in total died california in july 2020?\")"
   ]
  },
  {
   "cell_type": "code",
   "execution_count": 12,
   "id": "223d2996-5976-42ff-b0c8-700cf276625a",
   "metadata": {},
   "outputs": [
    {
     "data": {
      "text/markdown": [
       "To cook a chocolate cake, first preheat your oven to 350°F (175°C). Then, mix together 2 cups of sugar, 1 3/4 cups of all-purpose flour, 3/4 cup of unsweetened cocoa powder, 1 1/2 teaspoons of baking powder, 1 1/2 teaspoons of baking soda, and 1 teaspoon of salt in a large bowl. In another bowl, beat together 2 eggs, 1 cup of milk, 1/2 cup of vegetable oil, and 2 teaspoons of vanilla extract. Gradually mix the wet ingredients into the dry ingredients until well combined. Then, add 1 cup of boiling water and mix until smooth. Pour the batter into a greased 9x13 inch baking pan and bake for 35-40 minutes or until a toothpick inserted in the center comes out clean. Let the cake cool before serving. Enjoy! "
      ],
      "text/plain": [
       "<IPython.core.display.Markdown object>"
      ]
     },
     "metadata": {},
     "output_type": "display_data"
    }
   ],
   "source": [
    "# Test the ChatGPT Tool\n",
    "printmd(chatgpt.run(\"How do I cook a chocolate cake?\"))"
   ]
  },
  {
   "cell_type": "markdown",
   "id": "4c0ff658-b75a-4960-8576-65472844ad05",
   "metadata": {},
   "source": [
    "### Define our experts/tools from our main \"brain\" agent"
   ]
  },
  {
   "cell_type": "code",
   "execution_count": 33,
   "id": "681e9b05-4eef-4e79-9864-e74a199e8673",
   "metadata": {},
   "outputs": [],
   "source": [
    "tools = [\n",
    "    Tool(\n",
    "        name = \"Bing Search\",\n",
    "        func=www_search.run,\n",
    "        description='useful **ONLY** when you need to answer questions that begin with \"Hey Bing\"'\n",
    "    ),\n",
    "    Tool(\n",
    "        name = \"ChatGPT Search\",\n",
    "        func=chatgpt.run,\n",
    "        description='useful **ONLY** when you need to answer questions that begin with \"Hey ChatGPT\"',\n",
    "        return_direct=True\n",
    "    ),\n",
    "    Tool(\n",
    "        name = \"Doc Search\",\n",
    "        func=doc_search.run,\n",
    "        description='useful for when you need to answer questions that **DO NOT** begin with \"Hey Bing\" or \"Hey ChatGPT\"',\n",
    "        return_direct=True\n",
    "    ),\n",
    "    Tool(\n",
    "        name = \"SQL Tabular Search\",\n",
    "        func=sql_search.run,\n",
    "        description=\"useful for when you need to answer questions about number of cases, deaths, hospitalizations, tests, people in ICU, people in Ventilator, in the United States related to Covid-19\",\n",
    "        return_direct=True\n",
    "    ),\n",
    "]"
   ]
  },
  {
   "cell_type": "markdown",
   "id": "06f91421-079d-4bdd-9c45-96a0977c6558",
   "metadata": {},
   "source": [
    "**Note**: Notice that since both the CSV file and the SQL Database have the same exact data, we are only going to use the SQLDBWrapper Tool"
   ]
  },
  {
   "cell_type": "markdown",
   "id": "5429c416-3cf7-42ce-9d38-a254e2d0ffe9",
   "metadata": {},
   "source": [
    "### Create a shared memory for the \"brain\" agent"
   ]
  },
  {
   "cell_type": "code",
   "execution_count": 34,
   "id": "8082be69-7568-4e79-8a62-e24988b62b36",
   "metadata": {},
   "outputs": [],
   "source": [
    "memory = ConversationBufferMemory(memory_key=\"chat_history\", return_messages=True)"
   ]
  },
  {
   "cell_type": "markdown",
   "id": "0cc02389-cf52-4a5f-b4a1-2820ee5d8116",
   "metadata": {},
   "source": [
    "### Initialize the brain agent"
   ]
  },
  {
   "cell_type": "code",
   "execution_count": 35,
   "id": "a6314c17-281e-4db8-a5ea-f2579c508454",
   "metadata": {},
   "outputs": [],
   "source": [
    "llm = AzureChatOpenAI(deployment_name=MODEL_DEPLOYMENT_NAME, temperature=0.5, max_tokens=500)\n",
    "agent_chain = initialize_agent(tools, llm, agent=AgentType.CHAT_CONVERSATIONAL_REACT_DESCRIPTION, \n",
    "                               verbose=True, memory=memory)"
   ]
  },
  {
   "cell_type": "markdown",
   "id": "4904a07d-b857-45d7-86ac-c7cade3e9080",
   "metadata": {},
   "source": [
    "### Let's talk to our GPT Smart Search Engine chat bot now"
   ]
  },
  {
   "cell_type": "code",
   "execution_count": 36,
   "id": "4b37988b-9fb4-4958-bc17-d58d8dac8bb7",
   "metadata": {},
   "outputs": [
    {
     "name": "stdout",
     "output_type": "stream",
     "text": [
      "\n",
      "\n",
      "\u001b[1m> Entering new AgentExecutor chain...\u001b[0m\n",
      "\u001b[32;1m\u001b[1;3m{\n",
      "    \"action\": \"Final Answer\",\n",
      "    \"action_input\": \"I'm just a machine, so I don't have feelings, but I'm here to assist you with whatever you need. How can I help you today?\"\n",
      "}\u001b[0m\n",
      "\n",
      "\u001b[1m> Finished chain.\u001b[0m\n"
     ]
    },
    {
     "data": {
      "text/plain": [
       "\"I'm just a machine, so I don't have feelings, but I'm here to assist you with whatever you need. How can I help you today?\""
      ]
     },
     "execution_count": 36,
     "metadata": {},
     "output_type": "execute_result"
    }
   ],
   "source": [
    "agent_chain.run(input=\"hi, how are you doing today Virtual Assistant?\")"
   ]
  },
  {
   "cell_type": "code",
   "execution_count": 37,
   "id": "e4c89051-f947-4329-9bf6-14e3023236fd",
   "metadata": {},
   "outputs": [
    {
     "name": "stdout",
     "output_type": "stream",
     "text": [
      "\n",
      "\n",
      "\u001b[1m> Entering new AgentExecutor chain...\u001b[0m\n",
      "\u001b[32;1m\u001b[1;3m{\n",
      "    \"action\": \"Final Answer\",\n",
      "    \"action_input\": \"My name is Assistant.\"\n",
      "}\u001b[0m\n",
      "\n",
      "\u001b[1m> Finished chain.\u001b[0m\n"
     ]
    },
    {
     "data": {
      "text/plain": [
       "'My name is Assistant.'"
      ]
     },
     "execution_count": 37,
     "metadata": {},
     "output_type": "execute_result"
    }
   ],
   "source": [
    "agent_chain.run(input=\"what is your name?\")"
   ]
  },
  {
   "cell_type": "code",
   "execution_count": 38,
   "id": "ebdc3ad9-ad59-4135-87f6-e86728a11b71",
   "metadata": {},
   "outputs": [
    {
     "name": "stdout",
     "output_type": "stream",
     "text": [
      "\n",
      "\n",
      "\u001b[1m> Entering new AgentExecutor chain...\u001b[0m\n",
      "\u001b[32;1m\u001b[1;3m{\n",
      "    \"action\": \"ChatGPT Search\",\n",
      "    \"action_input\": \"what is the weather right now in 75240?\"\n",
      "}\u001b[0m\n",
      "Observation: \u001b[33;1m\u001b[1;3mThe current weather in 75240 is not available. Please check a weather website or app for the latest updates. \u001b[0m\n",
      "\u001b[32;1m\u001b[1;3m\u001b[0m\n",
      "\n",
      "\u001b[1m> Finished chain.\u001b[0m\n"
     ]
    },
    {
     "data": {
      "text/plain": [
       "'The current weather in 75240 is not available. Please check a weather website or app for the latest updates. '"
      ]
     },
     "execution_count": 38,
     "metadata": {},
     "output_type": "execute_result"
    }
   ],
   "source": [
    "agent_chain.run(input=\"Hey ChatGPT, what is the weather right now in 75240?\")"
   ]
  },
  {
   "cell_type": "code",
   "execution_count": 39,
   "id": "34d05278-1a27-4442-a825-c8bce50319bb",
   "metadata": {},
   "outputs": [
    {
     "name": "stdout",
     "output_type": "stream",
     "text": [
      "\n",
      "\n",
      "\u001b[1m> Entering new AgentExecutor chain...\u001b[0m\n",
      "\u001b[32;1m\u001b[1;3m{\n",
      "    \"action\": \"Bing Search\",\n",
      "    \"action_input\": \"weather 75240\"\n",
      "}\u001b[0m\n",
      "Observation: \u001b[36;1m\u001b[1;3mCurrent <b>Weather</b>. 11:41 AM. 61° F. RealFeel® 72°. RealFeel Shade™ 61°. Air Quality Fair. Wind ESE 4 mph. Wind Gusts 9 mph. Mostly cloudy More Details. Hourly <b>Weather</b> Forecast for Dallas, TX - The <b>Weather</b> Channel | <b>Weather</b>.com Today tenDay largeDeviceBannerText Don&#39;t Miss Severe <b>Weather</b> Takes Aim At Texas, Gulf Coast, Florida New COVID... Dallas <b>Weather</b> Forecasts. <b>Weather Underground</b> provides local &amp; long-range <b>weather</b> forecasts, weatherreports, maps &amp; tropical <b>weather</b> conditions for the Dallas area. Richardson, TX 10-Day <b>Weather</b> Forecast - The <b>Weather</b> Channel | <b>Weather</b>.com 10 Day <b>Weather</b> - Richardson, TX As of 9:36 pm CDT Tonight --/ 54° 1% Sun 30 | Night 54° 1% NE 9 mph Partly cloudy....\u001b[0m\n",
      "Thought:\u001b[32;1m\u001b[1;3m{\n",
      "    \"action\": \"Final Answer\",\n",
      "    \"action_input\": \"The current weather in 75240 is 61°F and mostly cloudy. Wind speed is ESE 4 mph with gusts up to 9 mph. Air quality is fair. You can find more details on The Weather Channel or Weather.com.\"\n",
      "}\u001b[0m\n",
      "\n",
      "\u001b[1m> Finished chain.\u001b[0m\n"
     ]
    },
    {
     "data": {
      "text/plain": [
       "'The current weather in 75240 is 61°F and mostly cloudy. Wind speed is ESE 4 mph with gusts up to 9 mph. Air quality is fair. You can find more details on The Weather Channel or Weather.com.'"
      ]
     },
     "execution_count": 39,
     "metadata": {},
     "output_type": "execute_result"
    }
   ],
   "source": [
    "agent_chain.run(input=\"Hey Bing, what is the weather right now in 75240?\")"
   ]
  },
  {
   "cell_type": "code",
   "execution_count": 41,
   "id": "94f354eb-884d-4fd3-842e-a8adc3b09a70",
   "metadata": {},
   "outputs": [
    {
     "name": "stdout",
     "output_type": "stream",
     "text": [
      "\n",
      "\n",
      "\u001b[1m> Entering new AgentExecutor chain...\u001b[0m\n",
      "\u001b[32;1m\u001b[1;3m```json\n",
      "{\n",
      "    \"action\": \"Doc Search\",\n",
      "    \"action_input\": \"COVID-19 treatment options\"\n",
      "}\n",
      "```\u001b[0mCustom token limit for gpt-35-turbo : 3000\n",
      "Combined docs tokens count: 1049\n",
      "Chain Type selected: stuff\n",
      "\n",
      "Observation: \u001b[38;5;200m\u001b[1;3mThere are currently no definitely proven effective therapies for COVID-19, and supportive care remains the mainstay of therapy while ongoing clinical trials are being conducted. Various conventional as well as potentially advanced in vitro diagnostic approaches (IVD) for the diagnosis of COVID-19 have been explored, but mixed results have been observed so far when utilising these approaches for the treatment of COVID-19 infection. Several clinical trials have been conducted or are currently ongoing to evaluate the efficacy of repurposed drugs that have been approved or are in development for other conditions. Antiviral agents and immune modulating treatments are currently being trialled, and understanding immune evasion strategies of SARS-CoV2 and the resulting delayed massive immune response will result in the identification of biomarkers that predict outcomes as well as phenotype and disease stage specific treatments that will likely include both antiviral and immune modulating agents.\n",
      "SOURCES: https://demodatasetsp.blob.core.windows.net/litcovid/train.csv\u001b[0m\n",
      "\u001b[32;1m\u001b[1;3m\u001b[0m\n",
      "\n",
      "\u001b[1m> Finished chain.\u001b[0m\n"
     ]
    },
    {
     "data": {
      "text/plain": [
       "'There are currently no definitely proven effective therapies for COVID-19, and supportive care remains the mainstay of therapy while ongoing clinical trials are being conducted. Various conventional as well as potentially advanced in vitro diagnostic approaches (IVD) for the diagnosis of COVID-19 have been explored, but mixed results have been observed so far when utilising these approaches for the treatment of COVID-19 infection. Several clinical trials have been conducted or are currently ongoing to evaluate the efficacy of repurposed drugs that have been approved or are in development for other conditions. Antiviral agents and immune modulating treatments are currently being trialled, and understanding immune evasion strategies of SARS-CoV2 and the resulting delayed massive immune response will result in the identification of biomarkers that predict outcomes as well as phenotype and disease stage specific treatments that will likely include both antiviral and immune modulating agents.\\nSOURCES: https://demodatasetsp.blob.core.windows.net/litcovid/train.csv'"
      ]
     },
     "execution_count": 41,
     "metadata": {},
     "output_type": "execute_result"
    }
   ],
   "source": [
    "agent_chain.run(input=\"What medicine helps with Covid?\")"
   ]
  },
  {
   "cell_type": "code",
   "execution_count": 42,
   "id": "8e48fb4b-321c-4cb8-b413-589eb1e8d1a6",
   "metadata": {},
   "outputs": [
    {
     "name": "stdout",
     "output_type": "stream",
     "text": [
      "\n",
      "\n",
      "\u001b[1m> Entering new AgentExecutor chain...\u001b[0m\n",
      "\u001b[32;1m\u001b[1;3m{\n",
      "    \"action\": \"Doc Search\",\n",
      "    \"action_input\": \"How to cook a Burrito\"\n",
      "}\u001b[0m\n",
      "Observation: \u001b[38;5;200m\u001b[1;3mNo Results Found\u001b[0m\n",
      "\u001b[32;1m\u001b[1;3m\u001b[0m\n",
      "\n",
      "\u001b[1m> Finished chain.\u001b[0m\n"
     ]
    },
    {
     "data": {
      "text/plain": [
       "'No Results Found'"
      ]
     },
     "execution_count": 42,
     "metadata": {},
     "output_type": "execute_result"
    }
   ],
   "source": [
    "agent_chain.run(input=\"How do I cook a Burrito?\")"
   ]
  },
  {
   "cell_type": "code",
   "execution_count": 43,
   "id": "badebc1b-dbfe-4a92-93bd-9ff214c34e75",
   "metadata": {},
   "outputs": [
    {
     "name": "stdout",
     "output_type": "stream",
     "text": [
      "\n",
      "\n",
      "\u001b[1m> Entering new AgentExecutor chain...\u001b[0m\n",
      "\u001b[32;1m\u001b[1;3m{\n",
      "    \"action\": \"SQL Tabular Search\",\n",
      "    \"action_input\": \"SELECT SUM(Deaths) AS Total_Deaths FROM covid_19_usa_summary WHERE State='Texas' AND YEAR(Date)=2020\"\n",
      "}\u001b[0m\n",
      "\n",
      "\u001b[1m> Entering new SQLDatabaseChain chain...\u001b[0m\n",
      "SELECT SUM(Deaths) AS Total_Deaths FROM covid_19_usa_summary WHERE State='Texas' AND YEAR(Date)=2020\n",
      "SQLQuery:\u001b[32;1m\u001b[1;3mSELECT SUM([death]) AS Total_Deaths FROM covidtracking WHERE state='TX' AND YEAR(CONVERT(date, date))=2020\u001b[0m\n",
      "SQLResult: \u001b[33;1m\u001b[1;3m[(2841253.0,)]\u001b[0m\n",
      "Answer:\u001b[32;1m\u001b[1;3mTotal_Deaths in Texas in 2020 was 2841253.\n",
      "Explanation: \n",
      "The query selects the sum of the 'death' column from the covidtracking table where the state is 'TX' and the year of the date is 2020. The result is a single value representing the total number of deaths in Texas in 2020.\u001b[0m\n",
      "\u001b[1m> Finished chain.\u001b[0m\n",
      "\n",
      "Observation: \u001b[31;1m\u001b[1;3mTotal_Deaths in Texas in 2020 was 2841253.\n",
      "Explanation: \n",
      "The query selects the sum of the 'death' column from the covidtracking table where the state is 'TX' and the year of the date is 2020. The result is a single value representing the total number of deaths in Texas in 2020.\u001b[0m\n",
      "\u001b[32;1m\u001b[1;3m\u001b[0m\n",
      "\n",
      "\u001b[1m> Finished chain.\u001b[0m\n"
     ]
    },
    {
     "data": {
      "text/plain": [
       "\"Total_Deaths in Texas in 2020 was 2841253.\\nExplanation: \\nThe query selects the sum of the 'death' column from the covidtracking table where the state is 'TX' and the year of the date is 2020. The result is a single value representing the total number of deaths in Texas in 2020.\""
      ]
     },
     "execution_count": 43,
     "metadata": {},
     "output_type": "execute_result"
    }
   ],
   "source": [
    "agent_chain.run(input=\"How many people died of covid in Texas in 2020?\")"
   ]
  },
  {
   "cell_type": "code",
   "execution_count": 44,
   "id": "89e27665-4006-4ffe-b19e-3eae3636fae7",
   "metadata": {},
   "outputs": [
    {
     "data": {
      "text/plain": [
       "[HumanMessage(content='hi, how are you doing today Virtual Assistant?', additional_kwargs={}),\n",
       " AIMessage(content=\"I'm just a machine, so I don't have feelings, but I'm here to assist you with whatever you need. How can I help you today?\", additional_kwargs={}),\n",
       " HumanMessage(content='what is your name?', additional_kwargs={}),\n",
       " AIMessage(content='My name is Assistant.', additional_kwargs={}),\n",
       " HumanMessage(content='Hey ChatGPT what is the weather right now in 75240?', additional_kwargs={}),\n",
       " AIMessage(content='The current weather in 75240 is not available. Please check a weather website or app for the latest updates. ', additional_kwargs={}),\n",
       " HumanMessage(content='Hey Bing, what is the weather right now in 75240?', additional_kwargs={}),\n",
       " AIMessage(content='The current weather in 75240 is 61°F and mostly cloudy. Wind speed is ESE 4 mph with gusts up to 9 mph. Air quality is fair. You can find more details on The Weather Channel or Weather.com.', additional_kwargs={}),\n",
       " HumanMessage(content='What medicine helps with Covid?', additional_kwargs={}),\n",
       " AIMessage(content='There are several medications being tested for the treatment of COVID-19, but currently, the only FDA-approved medication for treating COVID-19 is remdesivir (Veklury) for adults and children who are 12 years of age or older. Additionally, there are two oral antiviral pills, Paxlovid and Lagevrio, authorized for emergency use for the treatment of certain patients with mild to moderate COVID-19. Doctors may also prescribe medicine to help with symptoms, and may recommend clinical trials for potential COVID-19 treatments.', additional_kwargs={}),\n",
       " HumanMessage(content='What medicine helps with Covid?', additional_kwargs={}),\n",
       " AIMessage(content='There are currently no definitely proven effective therapies for COVID-19, and supportive care remains the mainstay of therapy while ongoing clinical trials are being conducted. Various conventional as well as potentially advanced in vitro diagnostic approaches (IVD) for the diagnosis of COVID-19 have been explored, but mixed results have been observed so far when utilising these approaches for the treatment of COVID-19 infection. Several clinical trials have been conducted or are currently ongoing to evaluate the efficacy of repurposed drugs that have been approved or are in development for other conditions. Antiviral agents and immune modulating treatments are currently being trialled, and understanding immune evasion strategies of SARS-CoV2 and the resulting delayed massive immune response will result in the identification of biomarkers that predict outcomes as well as phenotype and disease stage specific treatments that will likely include both antiviral and immune modulating agents.\\nSOURCES: https://demodatasetsp.blob.core.windows.net/litcovid/train.csv', additional_kwargs={}),\n",
       " HumanMessage(content='How do I cook a Burrito?', additional_kwargs={}),\n",
       " AIMessage(content='No Results Found', additional_kwargs={}),\n",
       " HumanMessage(content='How many people died of covid in Texas in 2020?', additional_kwargs={}),\n",
       " AIMessage(content=\"Total_Deaths in Texas in 2020 was 2841253.\\nExplanation: \\nThe query selects the sum of the 'death' column from the covidtracking table where the state is 'TX' and the year of the date is 2020. The result is a single value representing the total number of deaths in Texas in 2020.\", additional_kwargs={})]"
      ]
     },
     "execution_count": 44,
     "metadata": {},
     "output_type": "execute_result"
    }
   ],
   "source": [
    "agent_chain.memory.buffer"
   ]
  },
  {
   "cell_type": "markdown",
   "id": "96a54fc7-ec9b-4ced-9e17-c65d00aa97f6",
   "metadata": {},
   "source": [
    "# Summary"
   ]
  },
  {
   "cell_type": "markdown",
   "id": "9c48d899-bd7b-4081-a656-e8d9e597220d",
   "metadata": {},
   "source": [
    "Great!, We just built the GPT Smart Search Engine!\n",
    "In this Notebook we created the brain, the decision making Agent that decides what Tool to use to answer the question from the user. This is what was necessary in order to have an smart chat bot.\n",
    "\n",
    "We can have many tools to accomplish different tasks, including connecting to APIs, dealing with File Systems, and even using Humans as Tools. For more reference see [HERE](https://python.langchain.com/en/latest/modules/agents/tools.html)"
   ]
  },
  {
   "cell_type": "markdown",
   "id": "9969ed7e-3680-4853-b750-675a42d3b9ea",
   "metadata": {},
   "source": [
    "# NEXT\n",
    "Go back to your forked github repo and Deploy the web Application by following app/README.md"
   ]
  }
 ],
 "metadata": {
  "kernelspec": {
   "display_name": "Python 3.10 - SDK v2",
   "language": "python",
   "name": "python310-sdkv2"
  },
  "language_info": {
   "codemirror_mode": {
    "name": "ipython",
    "version": 3
   },
   "file_extension": ".py",
   "mimetype": "text/x-python",
   "name": "python",
   "nbconvert_exporter": "python",
   "pygments_lexer": "ipython3",
   "version": "3.10.9"
  }
 },
 "nbformat": 4,
 "nbformat_minor": 5
}
