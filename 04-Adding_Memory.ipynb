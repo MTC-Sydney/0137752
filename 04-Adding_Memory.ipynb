{
 "cells": [
  {
   "attachments": {},
   "cell_type": "markdown",
   "id": "01a8b5c0-87cb-4302-8e3c-dc809d0039fb",
   "metadata": {},
   "source": [
    "# Understanding Memory in LLMs"
   ]
  },
  {
   "attachments": {},
   "cell_type": "markdown",
   "id": "a2f73380-6395-4e9f-9c83-3f47a5d7e292",
   "metadata": {},
   "source": [
    "In the previous Notebook 03, we successfully explored how OpenAI models can enhance the results from Azure Cognitive Search. [Bing Chat](http://chat.bing.com/) is a search engine with a GPT-4 model that utilizes the content of search results to provide context and deliver accurate responses to queries.\n",
    "\n",
    "However, we have yet to discover how to engage in a conversation with the LLM. With Bing Chat, this is possible, as the LLM can understand and reference the previous responses.\n",
    "\n",
    "There is a common misconception that GPT models have memory. This is not true. While they possess knowledge, they do not retain information from previous questions asked to them.\n",
    "\n",
    "The aim of this Notebook is to demonstrate how we can \"provide memory\" to the LLM by utilizing prompts and context."
   ]
  },
  {
   "cell_type": "code",
   "execution_count": 1,
   "id": "733c782e-204c-47d0-8dae-c9df7091ab23",
   "metadata": {},
   "outputs": [],
   "source": [
    "import os\n",
    "from langchain.chat_models import AzureChatOpenAI\n",
    "from langchain.chains import LLMChain\n",
    "from langchain.prompts import PromptTemplate\n",
    "from langchain.chains import ConversationChain\n",
    "from langchain.chains.conversational_retrieval.prompts import CONDENSE_QUESTION_PROMPT\n",
    "from langchain.memory import ConversationBufferMemory\n",
    "from openai.error import OpenAIError\n",
    "from langchain.docstore.document import Document\n",
    "from langchain.memory import CosmosDBChatMessageHistory\n",
    "\n",
    "from IPython.display import Markdown, HTML, display  \n",
    "\n",
    "def printmd(string):\n",
    "    display(Markdown(string))\n",
    "\n",
    "#custom libraries that we will use later in the app\n",
    "from app.utils import (\n",
    "    get_search_results,\n",
    "    order_search_results,\n",
    "    model_tokens_limit,\n",
    "    num_tokens_from_docs,\n",
    "    embed_docs,\n",
    "    search_docs,\n",
    "    get_answer,\n",
    ")\n",
    "\n",
    "from app.prompts import COMBINE_QUESTION_PROMPT, COMBINE_PROMPT, COMBINE_CHAT_PROMPT\n",
    "\n",
    "# Don't mess with this unless you really know what you are doing\n",
    "AZURE_SEARCH_API_VERSION = '2021-04-30-Preview'\n",
    "AZURE_OPENAI_API_VERSION = \"2023-03-15-preview\"\n",
    "\n",
    "\n",
    "# Change these below with your own services credentials\n",
    "AZURE_SEARCH_ENDPOINT = \"ENTER YOUR VALUE\"\n",
    "AZURE_SEARCH_KEY = \"ENTER YOUR VALUE\"  \n",
    "AZURE_OPENAI_ENDPOINT= \"ENTER YOUR VALUE\"\n",
    "AZURE_OPENAI_API_KEY = \"ENTER YOUR VALUE\"\n",
    "AZURE_COSMOSDB_ENDPOINT = \"ENTER YOUR VALUE\"\n",
    "AZURE_COSMOSDB_NAME = \"ENTER YOUR VALUE\"\n",
    "AZURE_COSMOSDB_CONTAINER_NAME = \"ENTER YOUR VALUE\"\n",
    "AZURE_COMOSDB_CONNECTION_STRING = \"ENTER YOUR VALUE\"\n"
   ]
  },
  {
   "cell_type": "code",
   "execution_count": 2,
   "id": "6bc63c55-a57d-49a7-b6c7-0f18bca8199e",
   "metadata": {},
   "outputs": [],
   "source": [
    "# Set the ENV variables that Langchain needs to connect to Azure OpenAI\n",
    "os.environ[\"OPENAI_API_BASE\"] = os.environ[\"AZURE_OPENAI_ENDPOINT\"] = AZURE_OPENAI_ENDPOINT\n",
    "os.environ[\"OPENAI_API_KEY\"] = os.environ[\"AZURE_OPENAI_API_KEY\"] = AZURE_OPENAI_API_KEY\n",
    "os.environ[\"OPENAI_API_VERSION\"] = os.environ[\"AZURE_OPENAI_API_VERSION\"] = AZURE_OPENAI_API_VERSION\n",
    "os.environ[\"AZURE_SEARCH_KEY\"] = AZURE_SEARCH_KEY\n",
    "os.environ[\"AZURE_SEARCH_ENDPOINT\"] = AZURE_SEARCH_ENDPOINT\n",
    "os.environ[\"OPENAI_API_TYPE\"] = \"azure\"\n",
    "os.environ[\"AZURE_COSMOSDB_ENDPOINT\"]=  AZURE_COSMOSDB_ENDPOINT\n",
    "os.environ[\"AZURE_COSMOSDB_NAME\"]=  AZURE_COSMOSDB_NAME\n",
    "os.environ[\"AZURE_COSMOSDB_CONTAINER_NAME\"]=  AZURE_COSMOSDB_CONTAINER_NAME\n",
    "os.environ[\"AZURE_COMOSDB_CONNECTION_STRING\"]=  AZURE_COMOSDB_CONNECTION_STRING"
   ]
  },
  {
   "attachments": {},
   "cell_type": "markdown",
   "id": "3dc72b22-11c2-4df0-91b8-033d01829663",
   "metadata": {},
   "source": [
    "### Let's start with the basics\n",
    "Let's use a very simple example to see if the GPT model of Azure OpenAI have memory. We again will be using langchain to simplify our code "
   ]
  },
  {
   "cell_type": "code",
   "execution_count": 3,
   "id": "3eef5dc9-8b80-4085-980c-865fa41fa1f6",
   "metadata": {},
   "outputs": [],
   "source": [
    "QUESTION = \"Tell me some use cases for reinforcement learning?\"\n",
    "FOLLOW_UP_QUESTION = \"Can you rephrase what you just said?\""
   ]
  },
  {
   "cell_type": "code",
   "execution_count": 4,
   "id": "a00181d5-bd76-4ce4-a256-75ac5b58c60f",
   "metadata": {},
   "outputs": [],
   "source": [
    "# Define model\n",
    "MODEL = \"gpt-35-turbo\"\n",
    "# Create an OpenAI instance\n",
    "llm = AzureChatOpenAI(deployment_name=MODEL, temperature=0.5)"
   ]
  },
  {
   "cell_type": "code",
   "execution_count": 5,
   "id": "9502d0f1-fddf-40d1-95d2-a1461dcc498a",
   "metadata": {},
   "outputs": [],
   "source": [
    "# We create a very simple prompt template, just the question as is:\n",
    "prompt = PromptTemplate(\n",
    "    input_variables=[\"question\"],\n",
    "    template=\"{question}\",\n",
    ")\n",
    "\n",
    "chain = LLMChain(llm=llm, prompt=prompt)"
   ]
  },
  {
   "cell_type": "code",
   "execution_count": 6,
   "id": "c5c9903e-15c7-4e05-87a1-58e5a7917ba2",
   "metadata": {},
   "outputs": [
    {
     "data": {
      "text/markdown": [
       "1. Game playing: Reinforcement learning can be used to train game-playing agents to make optimal decisions in games like chess, Go, and poker.\n",
       "\n",
       "2. Robotics: Reinforcement learning can be used to train robots to perform complex tasks like grasping objects, walking, and navigating through environments.\n",
       "\n",
       "3. Advertising: Reinforcement learning can be used to optimize advertising campaigns by learning which ads perform best in different contexts and adjusting bids accordingly.\n",
       "\n",
       "4. Finance: Reinforcement learning can be used to optimize trading strategies by learning which actions lead to the highest returns and adjusting trades accordingly.\n",
       "\n",
       "5. Manufacturing: Reinforcement learning can be used to optimize manufacturing processes by learning which actions lead to the most efficient and cost-effective production.\n",
       "\n",
       "6. Autonomous vehicles: Reinforcement learning can be used to train autonomous vehicles to make safe and efficient driving decisions in complex environments.\n",
       "\n",
       "7. Healthcare: Reinforcement learning can be used to optimize treatment decisions for patients by learning which treatments lead to the best outcomes.\n",
       "\n",
       "8. Energy management: Reinforcement learning can be used to optimize energy consumption in buildings and other systems by learning which actions lead to the most efficient use of resources."
      ],
      "text/plain": [
       "<IPython.core.display.Markdown object>"
      ]
     },
     "metadata": {},
     "output_type": "display_data"
    }
   ],
   "source": [
    "# Let's see what the GPT model responds\n",
    "response = chain.run(QUESTION)\n",
    "printmd(response)"
   ]
  },
  {
   "cell_type": "code",
   "execution_count": 7,
   "id": "99acaf3c-ce68-4b87-b24a-6065b15ff9a8",
   "metadata": {},
   "outputs": [
    {
     "data": {
      "text/plain": [
       "'I apologize, but as an AI language model, I am not able to recall what I just said. Can you please provide me with the context or the sentence you want me to rephrase?'"
      ]
     },
     "execution_count": 7,
     "metadata": {},
     "output_type": "execute_result"
    }
   ],
   "source": [
    "#Now let's ask a follow up question\n",
    "chain.run(FOLLOW_UP_QUESTION)"
   ]
  },
  {
   "attachments": {},
   "cell_type": "markdown",
   "id": "a3e1c143-c95f-4566-a8b4-af8c42f08dd2",
   "metadata": {
    "jp-MarkdownHeadingCollapsed": true,
    "tags": []
   },
   "source": [
    "As you can see, it doesn't remember what it just responded. This proof that the LLM does NOT have memory and that we need to give the memory as a a conversation history as part of the prompt, like this:"
   ]
  },
  {
   "cell_type": "code",
   "execution_count": 8,
   "id": "0946ce71-6285-432e-b011-9c2dc1ba7b8a",
   "metadata": {},
   "outputs": [],
   "source": [
    "hist_prompt = PromptTemplate(\n",
    "    input_variables=[\"history\", \"question\"],\n",
    "    template=\"\"\"\n",
    "                {history}\n",
    "                Human: {question}\n",
    "                AI:\n",
    "            \"\"\"\n",
    "    )\n",
    "chain = LLMChain(llm=llm, prompt=hist_prompt)"
   ]
  },
  {
   "cell_type": "code",
   "execution_count": 9,
   "id": "6d088e51-e5eb-4143-b87d-b2be429eb864",
   "metadata": {},
   "outputs": [],
   "source": [
    "Conversation_history = \"\"\"\n",
    "Human: {question}\n",
    "AI: {response}\n",
    "\"\"\".format(question=QUESTION, response=response)"
   ]
  },
  {
   "cell_type": "code",
   "execution_count": 10,
   "id": "d99e34ad-5539-44dd-b080-3ad05efd2f01",
   "metadata": {},
   "outputs": [
    {
     "data": {
      "text/plain": [
       "'Sure, here are some practical applications of reinforcement learning:\\n\\n1. Game playing: Reinforcement learning can train game-playing agents to make optimal decisions in games like chess, Go, and poker.\\n\\n2. Robotics: Reinforcement learning can teach robots to perform complex tasks like grasping objects, walking, and navigating through environments.\\n\\n3. Advertising: Reinforcement learning can optimize advertising campaigns by learning which ads perform best in different contexts and adjusting bids accordingly.\\n\\n4. Finance: Reinforcement learning can optimize trading strategies by learning which actions lead to the highest returns and adjusting trades accordingly.\\n\\n5. Manufacturing: Reinforcement learning can optimize manufacturing processes by learning which actions lead to the most efficient and cost-effective production.\\n\\n6. Autonomous vehicles: Reinforcement learning can train autonomous vehicles to make safe and efficient driving decisions in complex environments.\\n\\n7. Healthcare: Reinforcement learning can optimize treatment decisions for patients by learning which treatments lead to the best outcomes.\\n\\n8. Energy management: Reinforcement learning can optimize energy consumption in buildings and other systems by learning which actions lead to the most efficient use of resources.'"
      ]
     },
     "execution_count": 10,
     "metadata": {},
     "output_type": "execute_result"
    }
   ],
   "source": [
    "chain.run({\"history\":Conversation_history, \"question\": FOLLOW_UP_QUESTION})"
   ]
  },
  {
   "attachments": {},
   "cell_type": "markdown",
   "id": "045e5af6-55d6-4353-b3f6-3275c95db00a",
   "metadata": {},
   "source": [
    "**Bingo!**, so we now know how to create a chatbot using LLMs, we just need to keep the state/history of the conversation and pass it as context every time"
   ]
  },
  {
   "attachments": {},
   "cell_type": "markdown",
   "id": "eafd1694-0077-4aa8-bd01-e9f763ce36a3",
   "metadata": {},
   "source": [
    "## Now that we understand the concept of memory via adding history as a context, let's go back to our GPT Smart Search engine"
   ]
  },
  {
   "attachments": {},
   "cell_type": "markdown",
   "id": "d8b27c45-7fbb-40da-a2e3-61e66a8e49b0",
   "metadata": {},
   "source": [
    "In order to not duplicate code, we have put many of the code used in Notebook 3 into functions. These functions are in the app/utils.py and app/prompts.py files This way we can use these functios in the app that we will build later."
   ]
  },
  {
   "cell_type": "code",
   "execution_count": 11,
   "id": "ef9f459b-e8b8-40b9-a94d-80c079968594",
   "metadata": {},
   "outputs": [],
   "source": [
    "index1_name = \"cogsrch-index-files\"\n",
    "index2_name = \"cogsrch-index-csv\"\n",
    "indexes = [index1_name, index2_name]\n",
    "\n",
    "agg_search_results = get_search_results(QUESTION, indexes)\n",
    "ordered_results = order_search_results(agg_search_results, reranker_threshold=1)"
   ]
  },
  {
   "cell_type": "code",
   "execution_count": 12,
   "id": "9b2a3595-c3b7-4376-b9c5-0db7a42b3ee4",
   "metadata": {},
   "outputs": [
    {
     "name": "stdout",
     "output_type": "stream",
     "text": [
      "Custom token limit for gpt-35-turbo : 3000\n",
      "Combined docs tokens count: 52495\n"
     ]
    }
   ],
   "source": [
    "docs = []\n",
    "for key,value in ordered_results.items():\n",
    "    for page in value[\"chunks\"]:\n",
    "        docs.append(Document(page_content=page, metadata={\"source\": value[\"location\"]}))\n",
    "\n",
    "# Calculate number of tokens of our docs\n",
    "tokens_limit = model_tokens_limit(MODEL)\n",
    "\n",
    "if(len(docs)>0):\n",
    "    num_tokens = num_tokens_from_docs(docs)\n",
    "    print(\"Custom token limit for\", MODEL, \":\", tokens_limit)\n",
    "    print(\"Combined docs tokens count:\",num_tokens)\n",
    "        \n",
    "else:\n",
    "    print(\"NO RESULTS FROM AZURE SEARCH\")\n"
   ]
  },
  {
   "cell_type": "code",
   "execution_count": 13,
   "id": "c26d7540-feb8-4581-849e-003f4bf2a601",
   "metadata": {},
   "outputs": [
    {
     "name": "stdout",
     "output_type": "stream",
     "text": [
      "Number of chunks: 48\n"
     ]
    },
    {
     "name": "stderr",
     "output_type": "stream",
     "text": [
      "2023-05-24 17:08:07.256 INFO    faiss.loader: Loading faiss with AVX2 support.\n",
      "2023-05-24 17:08:07.259 INFO    faiss.loader: Could not load library with AVX2 support due to:\n",
      "ModuleNotFoundError(\"No module named 'faiss.swigfaiss_avx2'\")\n",
      "2023-05-24 17:08:07.260 INFO    faiss.loader: Loading faiss.\n",
      "2023-05-24 17:08:07.296 INFO    faiss.loader: Successfully loaded faiss.\n"
     ]
    },
    {
     "name": "stdout",
     "output_type": "stream",
     "text": [
      "Token count after similarity search: 4110\n",
      "Chain Type selected: map_reduce\n",
      "CPU times: total: 93.8 ms\n",
      "Wall time: 6.33 s\n"
     ]
    }
   ],
   "source": [
    "%%time\n",
    "if num_tokens > tokens_limit:\n",
    "    index = embed_docs(docs)\n",
    "    top_docs = search_docs(index,QUESTION)\n",
    "    \n",
    "    # Now we need to recalculate the tokens count of the top results from similarity vector search\n",
    "    # in order to select the chain type: stuff or map_reduce\n",
    "    \n",
    "    num_tokens = num_tokens_from_docs(top_docs)   \n",
    "    print(\"Token count after similarity search:\", num_tokens)\n",
    "    chain_type = \"map_reduce\" if num_tokens > tokens_limit else \"stuff\"\n",
    "    \n",
    "else:\n",
    "    # if total tokens is less than our limit, we don't need to vectorize and do similarity search\n",
    "    top_docs = docs\n",
    "    chain_type = \"stuff\"\n",
    "    \n",
    "print(\"Chain Type selected:\", chain_type)"
   ]
  },
  {
   "cell_type": "code",
   "execution_count": 14,
   "id": "3ce6efa9-2b8f-4810-904d-5986b4ae0372",
   "metadata": {},
   "outputs": [
    {
     "data": {
      "text/plain": [
       "\"Reinforcement learning has been used in many applications, including board games, opponent modeling in commercial games, Sokoban, verifying game design and playing strategies, ensemble pruning, and position evaluation in the game of Othello. It is also being increasingly used in routing. Reinforcement learning algorithms are designed to optimize long-term return by adjusting the behavior of an agent interacting with an environment, through a Markov decision process. The effectiveness of the agent's actions is communicated through a scalar value (reinforcement signal). \\nSOURCES: https://demodatasetsp.blob.core.windows.net/arxivcs/0611/0611163v1.pdf, https://demodatasetsp.blob.core.windows.net/arxivcs/0207/0207073v1.pdf, https://demodatasetsp.blob.core.windows.net/arxivcs/0105/0105027v1.pdf\""
      ]
     },
     "execution_count": 14,
     "metadata": {},
     "output_type": "execute_result"
    }
   ],
   "source": [
    "# Get the answer\n",
    "response = get_answer(docs=top_docs, query=QUESTION, language=\"English\", deployment=MODEL, chain_type=chain_type)\n",
    "response['output_text']"
   ]
  },
  {
   "attachments": {},
   "cell_type": "markdown",
   "id": "27501f1b-7db0-4ee3-9cb1-e609254ffa3d",
   "metadata": {},
   "source": [
    "And if we ask the follow up question:"
   ]
  },
  {
   "cell_type": "code",
   "execution_count": 15,
   "id": "5cf5b323-3b9c-479b-8502-acfc4f7915dd",
   "metadata": {},
   "outputs": [
    {
     "data": {
      "text/plain": [
       "'For the first two documents, there is no relevant text to answer the question or rephrase the statement. The third document discusses the issue of finding a near-optimal policy in reinforcement learning, while the fourth document discusses the issue of estimating the value of policies in reinforcement learning without access to a generative model of the environment. Both documents focus on different techniques and algorithms to address these issues. \\nSOURCES: https://demodatasetsp.blob.core.windows.net/arxivcs/0611/0611163v1.pdf, https://demodatasetsp.blob.core.windows.net/arxivcs/0207/0207073v1.pdf, https://demodatasetsp.blob.core.windows.net/arxivcs/0105/0105027v1.pdf'"
      ]
     },
     "execution_count": 15,
     "metadata": {},
     "output_type": "execute_result"
    }
   ],
   "source": [
    "response = get_answer(docs=top_docs,  query=FOLLOW_UP_QUESTION, language=\"English\",deployment=MODEL, chain_type=chain_type)\n",
    "response['output_text']"
   ]
  },
  {
   "attachments": {},
   "cell_type": "markdown",
   "id": "035fa6e6-226c-400f-a504-30255385f43b",
   "metadata": {},
   "source": [
    "Until now we just have the same as the prior Notebook 03: results from Azure Search enhanced by OpenAI model, with no memory\n",
    "\n",
    "**Now let's add memory to it:**\n",
    "\n",
    "Reference: https://python.langchain.com/en/latest/modules/memory/examples/adding_memory_chain_multiple_inputs.html"
   ]
  },
  {
   "cell_type": "code",
   "execution_count": 16,
   "id": "d98b876e-d264-48ae-b5ed-9801d6a9152b",
   "metadata": {},
   "outputs": [
    {
     "data": {
      "text/plain": [
       "'Reinforcement learning is finding use in many important applications, including routing. Research in reinforcement learning focuses on designing algorithms for an agent interacting with an environment, to adjust its behavior in such a way as to optimize a long-term return. While there is no direct answer to the question in the given portion of the document, some examples of use cases for reinforcement learning can be found in literature. These include board games, opponent modelling and commercial games, single-agent search methods, verifying game design and playing strategies, position evaluation in the game of Othello, Markov games as a framework for multi-agent reinforcement learning, ensemble pruning, and practical issues in temporal difference learning. \\n\\nSOURCES: https://demodatasetsp.blob.core.windows.net/arxivcs/0611/0611163v1.pdf, https://demodatasetsp.blob.core.windows.net/arxivcs/0207/0207073v1.pdf, https://demodatasetsp.blob.core.windows.net/arxivcs/0105/0105027v1.pdf'"
      ]
     },
     "execution_count": 16,
     "metadata": {},
     "output_type": "execute_result"
    }
   ],
   "source": [
    "# memory object, which is neccessary to track the inputs/outputs and hold a conversation.\n",
    "memory = ConversationBufferMemory(memory_key=\"chat_history\",input_key=\"question\")\n",
    "\n",
    "response = get_answer(docs=top_docs, query=QUESTION, language=\"English\", deployment=MODEL, chain_type=chain_type, \n",
    "                        memory=memory)\n",
    "response['output_text']"
   ]
  },
  {
   "cell_type": "code",
   "execution_count": 17,
   "id": "bf28927b-d9ee-4412-bb07-13e055e832a7",
   "metadata": {},
   "outputs": [
    {
     "data": {
      "text/plain": [
       "'I apologize if my previous response was unclear. What I meant to say is that while the given portion of the document does not provide a direct answer to your question, some examples of use cases for reinforcement learning can be found in literature. These include board games, opponent modelling and commercial games, single-agent search methods, verifying game design and playing strategies, position evaluation in the game of Othello, Markov games as a framework for multi-agent reinforcement learning, ensemble pruning, and practical issues in temporal difference learning. \\nSOURCES: https://demodatasetsp.blob.core.windows.net/arxivcs/0611/0611163v1.pdf, https://demodatasetsp.blob.core.windows.net/arxivcs/0207/0207073v1.pdf, https://demodatasetsp.blob.core.windows.net/arxivcs/0105/0105027v1.pdf'"
      ]
     },
     "execution_count": 17,
     "metadata": {},
     "output_type": "execute_result"
    }
   ],
   "source": [
    "# Now we add a follow up question:\n",
    "response = get_answer(docs=top_docs, query=FOLLOW_UP_QUESTION, language=\"English\", deployment=MODEL, chain_type=chain_type, \n",
    "                      memory=memory)\n",
    "response['output_text']"
   ]
  },
  {
   "cell_type": "code",
   "execution_count": 18,
   "id": "3830b0b8-0ca2-4d0a-9747-f6273368002b",
   "metadata": {},
   "outputs": [
    {
     "data": {
      "text/plain": [
       "\"You're welcome! Let me know if you have any other questions.\\nSOURCES: N/A\""
      ]
     },
     "execution_count": 18,
     "metadata": {},
     "output_type": "execute_result"
    }
   ],
   "source": [
    "# Another follow up query\n",
    "response = get_answer(docs=top_docs, query=\"Thank you\", language=\"English\", deployment=MODEL, chain_type=chain_type,  \n",
    "                      memory=memory)\n",
    "response['output_text']"
   ]
  },
  {
   "attachments": {},
   "cell_type": "markdown",
   "id": "111e732b-3c8c-4df3-8fcb-c3d01e7bec74",
   "metadata": {},
   "source": [
    "Let's check our memory to see that it's keeping the conversation"
   ]
  },
  {
   "cell_type": "code",
   "execution_count": 19,
   "id": "1279692c-7eb0-4300-8a66-c7025f02c318",
   "metadata": {},
   "outputs": [
    {
     "data": {
      "text/plain": [
       "\"Human: Tell me some use cases for reinforcement learning?\\nAI: Reinforcement learning is finding use in many important applications, including routing. Research in reinforcement learning focuses on designing algorithms for an agent interacting with an environment, to adjust its behavior in such a way as to optimize a long-term return. While there is no direct answer to the question in the given portion of the document, some examples of use cases for reinforcement learning can be found in literature. These include board games, opponent modelling and commercial games, single-agent search methods, verifying game design and playing strategies, position evaluation in the game of Othello, Markov games as a framework for multi-agent reinforcement learning, ensemble pruning, and practical issues in temporal difference learning. \\n\\nSOURCES: https://demodatasetsp.blob.core.windows.net/arxivcs/0611/0611163v1.pdf, https://demodatasetsp.blob.core.windows.net/arxivcs/0207/0207073v1.pdf, https://demodatasetsp.blob.core.windows.net/arxivcs/0105/0105027v1.pdf\\nHuman: Can you rephrase what you just said?\\nAI: I apologize if my previous response was unclear. What I meant to say is that while the given portion of the document does not provide a direct answer to your question, some examples of use cases for reinforcement learning can be found in literature. These include board games, opponent modelling and commercial games, single-agent search methods, verifying game design and playing strategies, position evaluation in the game of Othello, Markov games as a framework for multi-agent reinforcement learning, ensemble pruning, and practical issues in temporal difference learning. \\nSOURCES: https://demodatasetsp.blob.core.windows.net/arxivcs/0611/0611163v1.pdf, https://demodatasetsp.blob.core.windows.net/arxivcs/0207/0207073v1.pdf, https://demodatasetsp.blob.core.windows.net/arxivcs/0105/0105027v1.pdf\\nHuman: Thank you\\nAI: You're welcome! Let me know if you have any other questions.\\nSOURCES: N/A\""
      ]
     },
     "execution_count": 19,
     "metadata": {},
     "output_type": "execute_result"
    }
   ],
   "source": [
    "memory.buffer"
   ]
  },
  {
   "attachments": {},
   "cell_type": "markdown",
   "id": "87405173",
   "metadata": {},
   "source": [
    "**Now, add memory in Azure CosmosDB:**\n",
    "\n",
    "in previous cell we have added memory to provide conversation interface, now here we will store the conversation history into CosmosDB for future auditing purpose."
   ]
  },
  {
   "cell_type": "code",
   "execution_count": 27,
   "id": "c7131daa",
   "metadata": {},
   "outputs": [
    {
     "name": "stderr",
     "output_type": "stream",
     "text": [
      "2023-05-24 17:12:52.352 INFO    azure.core.pipeline.policies.http_logging_policy: Request URL: 'https://cosmosdb-account-onqlzkigt2nsi.documents.azure.com:443/'\n",
      "Request method: 'GET'\n",
      "Request headers:\n",
      "    'Cache-Control': 'no-cache'\n",
      "    'x-ms-version': 'REDACTED'\n",
      "    'x-ms-documentdb-query-iscontinuationexpected': 'REDACTED'\n",
      "    'x-ms-date': 'REDACTED'\n",
      "    'authorization': 'REDACTED'\n",
      "    'Accept': 'application/json'\n",
      "    'Content-Length': '0'\n",
      "    'User-Agent': 'azsdk-python-cosmos/4.3.1 Python/3.10.9 (Windows-10-10.0.22621-SP0)'\n",
      "No body was attached to the request\n",
      "2023-05-24 17:12:52.852 INFO    azure.core.pipeline.policies.http_logging_policy: Response status: 200\n",
      "Response headers:\n",
      "    'Cache-Control': 'no-store, no-cache'\n",
      "    'Pragma': 'no-cache'\n",
      "    'Transfer-Encoding': 'chunked'\n",
      "    'Content-Type': 'application/json'\n",
      "    'Content-Location': 'REDACTED'\n",
      "    'Server': 'Microsoft-HTTPAPI/2.0'\n",
      "    'x-ms-max-media-storage-usage-mb': 'REDACTED'\n",
      "    'x-ms-media-storage-usage-mb': 'REDACTED'\n",
      "    'x-ms-databaseaccount-consumed-mb': 'REDACTED'\n",
      "    'x-ms-databaseaccount-reserved-mb': 'REDACTED'\n",
      "    'x-ms-databaseaccount-provisioned-mb': 'REDACTED'\n",
      "    'Strict-Transport-Security': 'REDACTED'\n",
      "    'x-ms-gatewayversion': 'REDACTED'\n",
      "    'Date': 'Wed, 24 May 2023 22:12:52 GMT'\n",
      "2023-05-24 17:12:52.854 INFO    azure.core.pipeline.policies.http_logging_policy: Request URL: 'https://cosmosdb-account-onqlzkigt2nsi-eastus.documents.azure.com:443/dbs/cosmosdb-db-onqlzkigt2nsi/'\n",
      "Request method: 'GET'\n",
      "Request headers:\n",
      "    'Cache-Control': 'no-cache'\n",
      "    'x-ms-version': 'REDACTED'\n",
      "    'x-ms-documentdb-query-iscontinuationexpected': 'REDACTED'\n",
      "    'x-ms-consistency-level': 'REDACTED'\n",
      "    'x-ms-date': 'REDACTED'\n",
      "    'authorization': 'REDACTED'\n",
      "    'Accept': 'application/json'\n",
      "    'Content-Length': '0'\n",
      "    'User-Agent': 'azsdk-python-cosmos/4.3.1 Python/3.10.9 (Windows-10-10.0.22621-SP0)'\n",
      "No body was attached to the request\n",
      "2023-05-24 17:12:53.236 INFO    azure.core.pipeline.policies.http_logging_policy: Response status: 200\n",
      "Response headers:\n",
      "    'Cache-Control': 'no-store, no-cache'\n",
      "    'Pragma': 'no-cache'\n",
      "    'Transfer-Encoding': 'chunked'\n",
      "    'Content-Type': 'application/json'\n",
      "    'Content-Location': 'REDACTED'\n",
      "    'Server': 'Microsoft-HTTPAPI/2.0'\n",
      "    'Strict-Transport-Security': 'REDACTED'\n",
      "    'x-ms-activity-id': 'REDACTED'\n",
      "    'x-ms-last-state-change-utc': 'REDACTED'\n",
      "    'etag': '\"00007401-0000-0100-0000-646e39ec0000\"'\n",
      "    'x-ms-resource-quota': 'REDACTED'\n",
      "    'x-ms-resource-usage': 'REDACTED'\n",
      "    'x-ms-schemaversion': 'REDACTED'\n",
      "    'lsn': 'REDACTED'\n",
      "    'x-ms-request-charge': 'REDACTED'\n",
      "    'x-ms-xp-role': 'REDACTED'\n",
      "    'x-ms-global-Committed-lsn': 'REDACTED'\n",
      "    'x-ms-number-of-read-regions': 'REDACTED'\n",
      "    'x-ms-item-lsn': 'REDACTED'\n",
      "    'x-ms-transport-request-id': 'REDACTED'\n",
      "    'x-ms-cosmos-llsn': 'REDACTED'\n",
      "    'x-ms-cosmos-item-llsn': 'REDACTED'\n",
      "    'x-ms-session-token': 'REDACTED'\n",
      "    'x-ms-request-duration-ms': 'REDACTED'\n",
      "    'x-ms-serviceversion': 'REDACTED'\n",
      "    'x-ms-gatewayversion': 'REDACTED'\n",
      "    'Date': 'Wed, 24 May 2023 22:12:53 GMT'\n",
      "2023-05-24 17:12:53.237 INFO    azure.core.pipeline.policies.http_logging_policy: Request URL: 'https://cosmosdb-account-onqlzkigt2nsi-eastus.documents.azure.com:443/dbs/cosmosdb-db-onqlzkigt2nsi/colls/cosmosdb-container-onqlzkigt2nsi/'\n",
      "Request method: 'GET'\n",
      "Request headers:\n",
      "    'Cache-Control': 'no-cache'\n",
      "    'x-ms-version': 'REDACTED'\n",
      "    'x-ms-documentdb-query-iscontinuationexpected': 'REDACTED'\n",
      "    'x-ms-consistency-level': 'REDACTED'\n",
      "    'x-ms-date': 'REDACTED'\n",
      "    'authorization': 'REDACTED'\n",
      "    'Accept': 'application/json'\n",
      "    'Content-Length': '0'\n",
      "    'User-Agent': 'azsdk-python-cosmos/4.3.1 Python/3.10.9 (Windows-10-10.0.22621-SP0)'\n",
      "No body was attached to the request\n",
      "2023-05-24 17:12:53.345 INFO    azure.core.pipeline.policies.http_logging_policy: Response status: 200\n",
      "Response headers:\n",
      "    'Cache-Control': 'no-store, no-cache'\n",
      "    'Pragma': 'no-cache'\n",
      "    'Transfer-Encoding': 'chunked'\n",
      "    'Content-Type': 'application/json'\n",
      "    'Content-Location': 'REDACTED'\n",
      "    'Server': 'Microsoft-HTTPAPI/2.0'\n",
      "    'Strict-Transport-Security': 'REDACTED'\n",
      "    'x-ms-activity-id': 'REDACTED'\n",
      "    'x-ms-last-state-change-utc': 'REDACTED'\n",
      "    'etag': '\"0000a701-0000-0100-0000-646e8ae30000\"'\n",
      "    'x-ms-schemaversion': 'REDACTED'\n",
      "    'collection-partition-index': 'REDACTED'\n",
      "    'collection-service-index': 'REDACTED'\n",
      "    'lsn': 'REDACTED'\n",
      "    'x-ms-request-charge': 'REDACTED'\n",
      "    'x-ms-alt-content-path': 'REDACTED'\n",
      "    'x-ms-content-path': 'REDACTED'\n",
      "    'x-ms-documentdb-partitionkeyrangeid': 'REDACTED'\n",
      "    'x-ms-xp-role': 'REDACTED'\n",
      "    'x-ms-global-Committed-lsn': 'REDACTED'\n",
      "    'x-ms-number-of-read-regions': 'REDACTED'\n",
      "    'x-ms-item-lsn': 'REDACTED'\n",
      "    'x-ms-transport-request-id': 'REDACTED'\n",
      "    'x-ms-cosmos-llsn': 'REDACTED'\n",
      "    'x-ms-cosmos-item-llsn': 'REDACTED'\n",
      "    'x-ms-session-token': 'REDACTED'\n",
      "    'x-ms-request-duration-ms': 'REDACTED'\n",
      "    'x-ms-serviceversion': 'REDACTED'\n",
      "    'x-ms-cosmos-max-content-length': 'REDACTED'\n",
      "    'x-ms-gatewayversion': 'REDACTED'\n",
      "    'Date': 'Wed, 24 May 2023 22:12:53 GMT'\n",
      "2023-05-24 17:12:53.346 INFO    azure.core.pipeline.policies.http_logging_policy: Request URL: 'https://cosmosdb-account-onqlzkigt2nsi-eastus.documents.azure.com:443/dbs/cosmosdb-db-onqlzkigt2nsi/colls/cosmosdb-container-onqlzkigt2nsi/docs/001/'\n",
      "Request method: 'GET'\n",
      "Request headers:\n",
      "    'Cache-Control': 'no-cache'\n",
      "    'x-ms-version': 'REDACTED'\n",
      "    'x-ms-documentdb-query-iscontinuationexpected': 'REDACTED'\n",
      "    'x-ms-consistency-level': 'REDACTED'\n",
      "    'x-ms-session-token': 'REDACTED'\n",
      "    'x-ms-documentdb-partitionkey': 'REDACTED'\n",
      "    'x-ms-date': 'REDACTED'\n",
      "    'authorization': 'REDACTED'\n",
      "    'Accept': 'application/json'\n",
      "    'Content-Length': '0'\n",
      "    'User-Agent': 'azsdk-python-cosmos/4.3.1 Python/3.10.9 (Windows-10-10.0.22621-SP0)'\n",
      "No body was attached to the request\n",
      "2023-05-24 17:12:53.501 INFO    azure.core.pipeline.policies.http_logging_policy: Response status: 404\n",
      "Response headers:\n",
      "    'Transfer-Encoding': 'chunked'\n",
      "    'Content-Type': 'application/json'\n",
      "    'Content-Location': 'REDACTED'\n",
      "    'Server': 'Microsoft-HTTPAPI/2.0'\n",
      "    'x-ms-activity-id': 'REDACTED'\n",
      "    'x-ms-last-state-change-utc': 'REDACTED'\n",
      "    'x-ms-schemaversion': 'REDACTED'\n",
      "    'lsn': 'REDACTED'\n",
      "    'x-ms-request-charge': 'REDACTED'\n",
      "    'x-ms-quorum-acked-lsn': 'REDACTED'\n",
      "    'x-ms-current-write-quorum': 'REDACTED'\n",
      "    'x-ms-current-replica-set-size': 'REDACTED'\n",
      "    'x-ms-documentdb-partitionkeyrangeid': 'REDACTED'\n",
      "    'x-ms-xp-role': 'REDACTED'\n",
      "    'x-ms-global-Committed-lsn': 'REDACTED'\n",
      "    'x-ms-number-of-read-regions': 'REDACTED'\n",
      "    'x-ms-transport-request-id': 'REDACTED'\n",
      "    'x-ms-cosmos-llsn': 'REDACTED'\n",
      "    'x-ms-cosmos-quorum-acked-llsn': 'REDACTED'\n",
      "    'x-ms-session-token': 'REDACTED'\n",
      "    'x-ms-request-duration-ms': 'REDACTED'\n",
      "    'x-ms-serviceversion': 'REDACTED'\n",
      "    'Strict-Transport-Security': 'REDACTED'\n",
      "    'x-ms-gatewayversion': 'REDACTED'\n",
      "    'Date': 'Wed, 24 May 2023 22:12:53 GMT'\n",
      "2023-05-24 17:12:53.502 INFO    langchain.memory.chat_message_histories.cosmos_db: no session found\n"
     ]
    }
   ],
   "source": [
    "# Create CosmosDB instance from langchain cosmos class.\n",
    "\n",
    "SESSION_ID = '001'  # this isstring value, normally you need to provide the user session id. As an example I have provided '001' as a session id\n",
    "USER_ID = 'dummy01' # this is string value, normally you need to provide the user id. As an example I have provided 'dummy01' as a user id\n",
    "\n",
    "cosmos = CosmosDBChatMessageHistory(\n",
    "    cosmos_endpoint=AZURE_COSMOSDB_ENDPOINT,\n",
    "    cosmos_database=AZURE_COSMOSDB_NAME,\n",
    "    cosmos_container=AZURE_COSMOSDB_CONTAINER_NAME,\n",
    "    connection_string=AZURE_COMOSDB_CONNECTION_STRING,\n",
    "    session_id=SESSION_ID,\n",
    "    user_id=USER_ID\n",
    "    )\n",
    "\n",
    "# prepare the cosmosdb instance\n",
    "\n",
    "cosmos.prepare_cosmos()"
   ]
  },
  {
   "cell_type": "code",
   "execution_count": 28,
   "id": "27ceb47a",
   "metadata": {},
   "outputs": [
    {
     "name": "stderr",
     "output_type": "stream",
     "text": [
      "2023-05-24 17:13:12.297 INFO    azure.core.pipeline.policies.http_logging_policy: Request URL: 'https://cosmosdb-account-onqlzkigt2nsi-eastus.documents.azure.com:443/dbs/cosmosdb-db-onqlzkigt2nsi/colls/cosmosdb-container-onqlzkigt2nsi/'\n",
      "Request method: 'GET'\n",
      "Request headers:\n",
      "    'Cache-Control': 'no-cache'\n",
      "    'x-ms-version': 'REDACTED'\n",
      "    'x-ms-documentdb-query-iscontinuationexpected': 'REDACTED'\n",
      "    'x-ms-consistency-level': 'REDACTED'\n",
      "    'x-ms-date': 'REDACTED'\n",
      "    'authorization': 'REDACTED'\n",
      "    'Accept': 'application/json'\n",
      "    'Content-Length': '0'\n",
      "    'User-Agent': 'azsdk-python-cosmos/4.3.1 Python/3.10.9 (Windows-10-10.0.22621-SP0)'\n",
      "No body was attached to the request\n",
      "2023-05-24 17:13:12.400 INFO    azure.core.pipeline.policies.http_logging_policy: Response status: 200\n",
      "Response headers:\n",
      "    'Cache-Control': 'no-store, no-cache'\n",
      "    'Pragma': 'no-cache'\n",
      "    'Transfer-Encoding': 'chunked'\n",
      "    'Content-Type': 'application/json'\n",
      "    'Content-Location': 'REDACTED'\n",
      "    'Server': 'Microsoft-HTTPAPI/2.0'\n",
      "    'Strict-Transport-Security': 'REDACTED'\n",
      "    'x-ms-activity-id': 'REDACTED'\n",
      "    'x-ms-last-state-change-utc': 'REDACTED'\n",
      "    'etag': '\"0000a701-0000-0100-0000-646e8ae30000\"'\n",
      "    'x-ms-schemaversion': 'REDACTED'\n",
      "    'collection-partition-index': 'REDACTED'\n",
      "    'collection-service-index': 'REDACTED'\n",
      "    'lsn': 'REDACTED'\n",
      "    'x-ms-request-charge': 'REDACTED'\n",
      "    'x-ms-alt-content-path': 'REDACTED'\n",
      "    'x-ms-content-path': 'REDACTED'\n",
      "    'x-ms-quorum-acked-lsn': 'REDACTED'\n",
      "    'x-ms-current-write-quorum': 'REDACTED'\n",
      "    'x-ms-current-replica-set-size': 'REDACTED'\n",
      "    'x-ms-documentdb-partitionkeyrangeid': 'REDACTED'\n",
      "    'x-ms-xp-role': 'REDACTED'\n",
      "    'x-ms-global-Committed-lsn': 'REDACTED'\n",
      "    'x-ms-number-of-read-regions': 'REDACTED'\n",
      "    'x-ms-item-lsn': 'REDACTED'\n",
      "    'x-ms-transport-request-id': 'REDACTED'\n",
      "    'x-ms-cosmos-llsn': 'REDACTED'\n",
      "    'x-ms-cosmos-quorum-acked-llsn': 'REDACTED'\n",
      "    'x-ms-cosmos-item-llsn': 'REDACTED'\n",
      "    'x-ms-session-token': 'REDACTED'\n",
      "    'x-ms-request-duration-ms': 'REDACTED'\n",
      "    'x-ms-serviceversion': 'REDACTED'\n",
      "    'x-ms-cosmos-max-content-length': 'REDACTED'\n",
      "    'x-ms-gatewayversion': 'REDACTED'\n",
      "    'Date': 'Wed, 24 May 2023 22:13:13 GMT'\n",
      "2023-05-24 17:13:12.403 INFO    azure.core.pipeline.policies.http_logging_policy: Request URL: 'https://cosmosdb-account-onqlzkigt2nsi-eastus.documents.azure.com:443/dbs/cosmosdb-db-onqlzkigt2nsi/colls/cosmosdb-container-onqlzkigt2nsi/docs/'\n",
      "Request method: 'POST'\n",
      "Request headers:\n",
      "    'Cache-Control': 'no-cache'\n",
      "    'x-ms-version': 'REDACTED'\n",
      "    'x-ms-documentdb-query-iscontinuationexpected': 'REDACTED'\n",
      "    'x-ms-consistency-level': 'REDACTED'\n",
      "    'x-ms-session-token': 'REDACTED'\n",
      "    'x-ms-documentdb-partitionkey': 'REDACTED'\n",
      "    'x-ms-date': 'REDACTED'\n",
      "    'authorization': 'REDACTED'\n",
      "    'Content-Type': 'application/json'\n",
      "    'Accept': 'application/json'\n",
      "    'x-ms-documentdb-is-upsert': 'REDACTED'\n",
      "    'Content-Length': '173'\n",
      "    'User-Agent': 'azsdk-python-cosmos/4.3.1 Python/3.10.9 (Windows-10-10.0.22621-SP0)'\n",
      "A body is sent with the request\n",
      "2023-05-24 17:13:12.471 INFO    azure.core.pipeline.policies.http_logging_policy: Response status: 201\n",
      "Response headers:\n",
      "    'Cache-Control': 'no-store, no-cache'\n",
      "    'Pragma': 'no-cache'\n",
      "    'Transfer-Encoding': 'chunked'\n",
      "    'Content-Type': 'application/json'\n",
      "    'Server': 'Microsoft-HTTPAPI/2.0'\n",
      "    'Strict-Transport-Security': 'REDACTED'\n",
      "    'x-ms-activity-id': 'REDACTED'\n",
      "    'x-ms-last-state-change-utc': 'REDACTED'\n",
      "    'etag': '\"3d00f08c-0000-0100-0000-646e8bf90000\"'\n",
      "    'x-ms-resource-quota': 'REDACTED'\n",
      "    'x-ms-resource-usage': 'REDACTED'\n",
      "    'x-ms-schemaversion': 'REDACTED'\n",
      "    'lsn': 'REDACTED'\n",
      "    'x-ms-request-charge': 'REDACTED'\n",
      "    'x-ms-alt-content-path': 'REDACTED'\n",
      "    'x-ms-content-path': 'REDACTED'\n",
      "    'x-ms-quorum-acked-lsn': 'REDACTED'\n",
      "    'x-ms-current-write-quorum': 'REDACTED'\n",
      "    'x-ms-current-replica-set-size': 'REDACTED'\n",
      "    'x-ms-documentdb-partitionkeyrangeid': 'REDACTED'\n",
      "    'x-ms-xp-role': 'REDACTED'\n",
      "    'x-ms-global-Committed-lsn': 'REDACTED'\n",
      "    'x-ms-number-of-read-regions': 'REDACTED'\n",
      "    'x-ms-transport-request-id': 'REDACTED'\n",
      "    'x-ms-cosmos-llsn': 'REDACTED'\n",
      "    'x-ms-cosmos-quorum-acked-llsn': 'REDACTED'\n",
      "    'x-ms-session-token': 'REDACTED'\n",
      "    'x-ms-request-duration-ms': 'REDACTED'\n",
      "    'x-ms-serviceversion': 'REDACTED'\n",
      "    'x-ms-gatewayversion': 'REDACTED'\n",
      "    'Date': 'Wed, 24 May 2023 22:13:13 GMT'\n",
      "2023-05-24 17:13:12.474 INFO    azure.core.pipeline.policies.http_logging_policy: Request URL: 'https://cosmosdb-account-onqlzkigt2nsi-eastus.documents.azure.com:443/dbs/cosmosdb-db-onqlzkigt2nsi/colls/cosmosdb-container-onqlzkigt2nsi/docs/'\n",
      "Request method: 'POST'\n",
      "Request headers:\n",
      "    'Cache-Control': 'no-cache'\n",
      "    'x-ms-version': 'REDACTED'\n",
      "    'x-ms-documentdb-query-iscontinuationexpected': 'REDACTED'\n",
      "    'x-ms-consistency-level': 'REDACTED'\n",
      "    'x-ms-session-token': 'REDACTED'\n",
      "    'x-ms-documentdb-partitionkey': 'REDACTED'\n",
      "    'x-ms-date': 'REDACTED'\n",
      "    'authorization': 'REDACTED'\n",
      "    'Content-Type': 'application/json'\n",
      "    'Accept': 'application/json'\n",
      "    'x-ms-documentdb-is-upsert': 'REDACTED'\n",
      "    'Content-Length': '939'\n",
      "    'User-Agent': 'azsdk-python-cosmos/4.3.1 Python/3.10.9 (Windows-10-10.0.22621-SP0)'\n",
      "A body is sent with the request\n",
      "2023-05-24 17:13:12.559 INFO    azure.core.pipeline.policies.http_logging_policy: Response status: 200\n",
      "Response headers:\n",
      "    'Cache-Control': 'no-store, no-cache'\n",
      "    'Pragma': 'no-cache'\n",
      "    'Transfer-Encoding': 'chunked'\n",
      "    'Content-Type': 'application/json'\n",
      "    'Server': 'Microsoft-HTTPAPI/2.0'\n",
      "    'Strict-Transport-Security': 'REDACTED'\n",
      "    'x-ms-activity-id': 'REDACTED'\n",
      "    'x-ms-last-state-change-utc': 'REDACTED'\n",
      "    'etag': '\"3d00f18c-0000-0100-0000-646e8bf90000\"'\n",
      "    'x-ms-resource-quota': 'REDACTED'\n",
      "    'x-ms-resource-usage': 'REDACTED'\n",
      "    'x-ms-schemaversion': 'REDACTED'\n",
      "    'lsn': 'REDACTED'\n",
      "    'x-ms-request-charge': 'REDACTED'\n",
      "    'x-ms-alt-content-path': 'REDACTED'\n",
      "    'x-ms-content-path': 'REDACTED'\n",
      "    'x-ms-quorum-acked-lsn': 'REDACTED'\n",
      "    'x-ms-current-write-quorum': 'REDACTED'\n",
      "    'x-ms-current-replica-set-size': 'REDACTED'\n",
      "    'x-ms-documentdb-partitionkeyrangeid': 'REDACTED'\n",
      "    'x-ms-xp-role': 'REDACTED'\n",
      "    'x-ms-global-Committed-lsn': 'REDACTED'\n",
      "    'x-ms-number-of-read-regions': 'REDACTED'\n",
      "    'x-ms-transport-request-id': 'REDACTED'\n",
      "    'x-ms-cosmos-llsn': 'REDACTED'\n",
      "    'x-ms-cosmos-quorum-acked-llsn': 'REDACTED'\n",
      "    'x-ms-session-token': 'REDACTED'\n",
      "    'x-ms-request-duration-ms': 'REDACTED'\n",
      "    'x-ms-serviceversion': 'REDACTED'\n",
      "    'x-ms-gatewayversion': 'REDACTED'\n",
      "    'Date': 'Wed, 24 May 2023 22:13:13 GMT'\n"
     ]
    },
    {
     "data": {
      "text/plain": [
       "'Reinforcement learning has numerous use cases, such as in board games, ensemble pruning, and machine learning using checkers. Additionally, reinforcement learning is increasingly being used in important applications, including routing. The success of learning algorithms depends on the richness of information about various behaviors and how effectively it is used. Unfortunately, the given portion of the document does not provide a direct answer to your question. \\nSOURCES: https://demodatasetsp.blob.core.windows.net/arxivcs/0611/0611163v1.pdf, https://demodatasetsp.blob.core.windows.net/arxivcs/0207/0207073v1.pdf, https://demodatasetsp.blob.core.windows.net/arxivcs/0105/0105027v1.pdf'"
      ]
     },
     "execution_count": 28,
     "metadata": {},
     "output_type": "execute_result"
    }
   ],
   "source": [
    "\n",
    "# load the conversation history into CosmosDB\n",
    "\n",
    "memory = ConversationBufferMemory(memory_key=\"chat_history\",input_key=\"question\",chat_memory=cosmos)\n",
    "\n",
    "response = get_answer(docs=top_docs, query=QUESTION, language=\"English\", deployment=MODEL, chain_type=chain_type, \n",
    "                        memory=memory)\n",
    "response['output_text']"
   ]
  },
  {
   "cell_type": "code",
   "execution_count": 29,
   "id": "1a5ff826",
   "metadata": {},
   "outputs": [
    {
     "name": "stderr",
     "output_type": "stream",
     "text": [
      "2023-05-24 17:13:39.492 INFO    azure.core.pipeline.policies.http_logging_policy: Request URL: 'https://cosmosdb-account-onqlzkigt2nsi-eastus.documents.azure.com:443/dbs/cosmosdb-db-onqlzkigt2nsi/colls/cosmosdb-container-onqlzkigt2nsi/docs/'\n",
      "Request method: 'POST'\n",
      "Request headers:\n",
      "    'Cache-Control': 'no-cache'\n",
      "    'x-ms-version': 'REDACTED'\n",
      "    'x-ms-documentdb-query-iscontinuationexpected': 'REDACTED'\n",
      "    'x-ms-consistency-level': 'REDACTED'\n",
      "    'x-ms-session-token': 'REDACTED'\n",
      "    'x-ms-documentdb-partitionkey': 'REDACTED'\n",
      "    'x-ms-date': 'REDACTED'\n",
      "    'authorization': 'REDACTED'\n",
      "    'Content-Type': 'application/json'\n",
      "    'Accept': 'application/json'\n",
      "    'x-ms-documentdb-is-upsert': 'REDACTED'\n",
      "    'Content-Length': '1053'\n",
      "    'User-Agent': 'azsdk-python-cosmos/4.3.1 Python/3.10.9 (Windows-10-10.0.22621-SP0)'\n",
      "A body is sent with the request\n",
      "2023-05-24 17:13:39.597 INFO    azure.core.pipeline.policies.http_logging_policy: Response status: 200\n",
      "Response headers:\n",
      "    'Cache-Control': 'no-store, no-cache'\n",
      "    'Pragma': 'no-cache'\n",
      "    'Transfer-Encoding': 'chunked'\n",
      "    'Content-Type': 'application/json'\n",
      "    'Server': 'Microsoft-HTTPAPI/2.0'\n",
      "    'Strict-Transport-Security': 'REDACTED'\n",
      "    'x-ms-activity-id': 'REDACTED'\n",
      "    'x-ms-last-state-change-utc': 'REDACTED'\n",
      "    'etag': '\"3d00f18d-0000-0100-0000-646e8c140000\"'\n",
      "    'x-ms-resource-quota': 'REDACTED'\n",
      "    'x-ms-resource-usage': 'REDACTED'\n",
      "    'x-ms-schemaversion': 'REDACTED'\n",
      "    'lsn': 'REDACTED'\n",
      "    'x-ms-request-charge': 'REDACTED'\n",
      "    'x-ms-alt-content-path': 'REDACTED'\n",
      "    'x-ms-content-path': 'REDACTED'\n",
      "    'x-ms-quorum-acked-lsn': 'REDACTED'\n",
      "    'x-ms-current-write-quorum': 'REDACTED'\n",
      "    'x-ms-current-replica-set-size': 'REDACTED'\n",
      "    'x-ms-documentdb-partitionkeyrangeid': 'REDACTED'\n",
      "    'x-ms-xp-role': 'REDACTED'\n",
      "    'x-ms-global-Committed-lsn': 'REDACTED'\n",
      "    'x-ms-number-of-read-regions': 'REDACTED'\n",
      "    'x-ms-transport-request-id': 'REDACTED'\n",
      "    'x-ms-cosmos-llsn': 'REDACTED'\n",
      "    'x-ms-cosmos-quorum-acked-llsn': 'REDACTED'\n",
      "    'x-ms-session-token': 'REDACTED'\n",
      "    'x-ms-request-duration-ms': 'REDACTED'\n",
      "    'x-ms-serviceversion': 'REDACTED'\n",
      "    'x-ms-gatewayversion': 'REDACTED'\n",
      "    'Date': 'Wed, 24 May 2023 22:13:40 GMT'\n",
      "2023-05-24 17:13:39.600 INFO    azure.core.pipeline.policies.http_logging_policy: Request URL: 'https://cosmosdb-account-onqlzkigt2nsi-eastus.documents.azure.com:443/dbs/cosmosdb-db-onqlzkigt2nsi/colls/cosmosdb-container-onqlzkigt2nsi/docs/'\n",
      "Request method: 'POST'\n",
      "Request headers:\n",
      "    'Cache-Control': 'no-cache'\n",
      "    'x-ms-version': 'REDACTED'\n",
      "    'x-ms-documentdb-query-iscontinuationexpected': 'REDACTED'\n",
      "    'x-ms-consistency-level': 'REDACTED'\n",
      "    'x-ms-session-token': 'REDACTED'\n",
      "    'x-ms-documentdb-partitionkey': 'REDACTED'\n",
      "    'x-ms-date': 'REDACTED'\n",
      "    'authorization': 'REDACTED'\n",
      "    'Content-Type': 'application/json'\n",
      "    'Accept': 'application/json'\n",
      "    'x-ms-documentdb-is-upsert': 'REDACTED'\n",
      "    'Content-Length': '1799'\n",
      "    'User-Agent': 'azsdk-python-cosmos/4.3.1 Python/3.10.9 (Windows-10-10.0.22621-SP0)'\n",
      "A body is sent with the request\n",
      "2023-05-24 17:13:39.669 INFO    azure.core.pipeline.policies.http_logging_policy: Response status: 200\n",
      "Response headers:\n",
      "    'Cache-Control': 'no-store, no-cache'\n",
      "    'Pragma': 'no-cache'\n",
      "    'Transfer-Encoding': 'chunked'\n",
      "    'Content-Type': 'application/json'\n",
      "    'Server': 'Microsoft-HTTPAPI/2.0'\n",
      "    'Strict-Transport-Security': 'REDACTED'\n",
      "    'x-ms-activity-id': 'REDACTED'\n",
      "    'x-ms-last-state-change-utc': 'REDACTED'\n",
      "    'etag': '\"3d00f38d-0000-0100-0000-646e8c140000\"'\n",
      "    'x-ms-resource-quota': 'REDACTED'\n",
      "    'x-ms-resource-usage': 'REDACTED'\n",
      "    'x-ms-schemaversion': 'REDACTED'\n",
      "    'lsn': 'REDACTED'\n",
      "    'x-ms-request-charge': 'REDACTED'\n",
      "    'x-ms-alt-content-path': 'REDACTED'\n",
      "    'x-ms-content-path': 'REDACTED'\n",
      "    'x-ms-quorum-acked-lsn': 'REDACTED'\n",
      "    'x-ms-current-write-quorum': 'REDACTED'\n",
      "    'x-ms-current-replica-set-size': 'REDACTED'\n",
      "    'x-ms-documentdb-partitionkeyrangeid': 'REDACTED'\n",
      "    'x-ms-xp-role': 'REDACTED'\n",
      "    'x-ms-global-Committed-lsn': 'REDACTED'\n",
      "    'x-ms-number-of-read-regions': 'REDACTED'\n",
      "    'x-ms-transport-request-id': 'REDACTED'\n",
      "    'x-ms-cosmos-llsn': 'REDACTED'\n",
      "    'x-ms-cosmos-quorum-acked-llsn': 'REDACTED'\n",
      "    'x-ms-session-token': 'REDACTED'\n",
      "    'x-ms-request-duration-ms': 'REDACTED'\n",
      "    'x-ms-serviceversion': 'REDACTED'\n",
      "    'x-ms-gatewayversion': 'REDACTED'\n",
      "    'Date': 'Wed, 24 May 2023 22:13:40 GMT'\n"
     ]
    },
    {
     "data": {
      "text/plain": [
       "'I apologize for any confusion. What I meant to say is that reinforcement learning has various applications, including board games, ensemble pruning, and machine learning with checkers. In addition, reinforcement learning is increasingly being used in important applications such as routing. However, the given portion of the documents does not provide a direct answer to your question. Can you please provide more context or a specific question? \\nSOURCES: https://demodatasetsp.blob.core.windows.net/arxivcs/0611/0611163v1.pdf, https://demodatasetsp.blob.core.windows.net/arxivcs/0207/0207073v1.pdf, https://demodatasetsp.blob.core.windows.net/arxivcs/0105/0105027v1.pdf'"
      ]
     },
     "execution_count": 29,
     "metadata": {},
     "output_type": "execute_result"
    }
   ],
   "source": [
    "# Now we add a follow up question:\n",
    "response = get_answer(docs=top_docs, query=FOLLOW_UP_QUESTION, language=\"English\", deployment=MODEL, chain_type=chain_type, \n",
    "                      memory=memory)\n",
    "response['output_text']"
   ]
  },
  {
   "cell_type": "code",
   "execution_count": 30,
   "id": "5e8cd478",
   "metadata": {},
   "outputs": [
    {
     "data": {
      "text/plain": [
       "{'output_text': 'I apologize for any confusion. What I meant to say is that reinforcement learning has various applications, including board games, ensemble pruning, and machine learning with checkers. In addition, reinforcement learning is increasingly being used in important applications such as routing. However, the given portion of the documents does not provide a direct answer to your question. Can you please provide more context or a specific question? \\nSOURCES: https://demodatasetsp.blob.core.windows.net/arxivcs/0611/0611163v1.pdf, https://demodatasetsp.blob.core.windows.net/arxivcs/0207/0207073v1.pdf, https://demodatasetsp.blob.core.windows.net/arxivcs/0105/0105027v1.pdf'}"
      ]
     },
     "execution_count": 30,
     "metadata": {},
     "output_type": "execute_result"
    }
   ],
   "source": [
    "response"
   ]
  },
  {
   "cell_type": "code",
   "execution_count": 31,
   "id": "be1620fa",
   "metadata": {},
   "outputs": [
    {
     "name": "stderr",
     "output_type": "stream",
     "text": [
      "2023-05-24 17:13:51.850 INFO    azure.core.pipeline.policies.http_logging_policy: Request URL: 'https://cosmosdb-account-onqlzkigt2nsi-eastus.documents.azure.com:443/dbs/cosmosdb-db-onqlzkigt2nsi/colls/cosmosdb-container-onqlzkigt2nsi/docs/'\n",
      "Request method: 'POST'\n",
      "Request headers:\n",
      "    'Cache-Control': 'no-cache'\n",
      "    'x-ms-version': 'REDACTED'\n",
      "    'x-ms-documentdb-query-iscontinuationexpected': 'REDACTED'\n",
      "    'x-ms-consistency-level': 'REDACTED'\n",
      "    'x-ms-session-token': 'REDACTED'\n",
      "    'x-ms-documentdb-partitionkey': 'REDACTED'\n",
      "    'x-ms-date': 'REDACTED'\n",
      "    'authorization': 'REDACTED'\n",
      "    'Content-Type': 'application/json'\n",
      "    'Accept': 'application/json'\n",
      "    'x-ms-documentdb-is-upsert': 'REDACTED'\n",
      "    'Content-Length': '1886'\n",
      "    'User-Agent': 'azsdk-python-cosmos/4.3.1 Python/3.10.9 (Windows-10-10.0.22621-SP0)'\n",
      "A body is sent with the request\n",
      "2023-05-24 17:13:52.104 INFO    azure.core.pipeline.policies.http_logging_policy: Response status: 200\n",
      "Response headers:\n",
      "    'Cache-Control': 'no-store, no-cache'\n",
      "    'Pragma': 'no-cache'\n",
      "    'Transfer-Encoding': 'chunked'\n",
      "    'Content-Type': 'application/json'\n",
      "    'Server': 'Microsoft-HTTPAPI/2.0'\n",
      "    'Strict-Transport-Security': 'REDACTED'\n",
      "    'x-ms-activity-id': 'REDACTED'\n",
      "    'x-ms-last-state-change-utc': 'REDACTED'\n",
      "    'etag': '\"3d00498e-0000-0100-0000-646e8c200000\"'\n",
      "    'x-ms-resource-quota': 'REDACTED'\n",
      "    'x-ms-resource-usage': 'REDACTED'\n",
      "    'x-ms-schemaversion': 'REDACTED'\n",
      "    'lsn': 'REDACTED'\n",
      "    'x-ms-request-charge': 'REDACTED'\n",
      "    'x-ms-alt-content-path': 'REDACTED'\n",
      "    'x-ms-content-path': 'REDACTED'\n",
      "    'x-ms-quorum-acked-lsn': 'REDACTED'\n",
      "    'x-ms-current-write-quorum': 'REDACTED'\n",
      "    'x-ms-current-replica-set-size': 'REDACTED'\n",
      "    'x-ms-documentdb-partitionkeyrangeid': 'REDACTED'\n",
      "    'x-ms-xp-role': 'REDACTED'\n",
      "    'x-ms-global-Committed-lsn': 'REDACTED'\n",
      "    'x-ms-number-of-read-regions': 'REDACTED'\n",
      "    'x-ms-transport-request-id': 'REDACTED'\n",
      "    'x-ms-cosmos-llsn': 'REDACTED'\n",
      "    'x-ms-cosmos-quorum-acked-llsn': 'REDACTED'\n",
      "    'x-ms-session-token': 'REDACTED'\n",
      "    'x-ms-request-duration-ms': 'REDACTED'\n",
      "    'x-ms-serviceversion': 'REDACTED'\n",
      "    'x-ms-gatewayversion': 'REDACTED'\n",
      "    'Date': 'Wed, 24 May 2023 22:13:52 GMT'\n",
      "2023-05-24 17:13:52.106 INFO    azure.core.pipeline.policies.http_logging_policy: Request URL: 'https://cosmosdb-account-onqlzkigt2nsi-eastus.documents.azure.com:443/dbs/cosmosdb-db-onqlzkigt2nsi/colls/cosmosdb-container-onqlzkigt2nsi/docs/'\n",
      "Request method: 'POST'\n",
      "Request headers:\n",
      "    'Cache-Control': 'no-cache'\n",
      "    'x-ms-version': 'REDACTED'\n",
      "    'x-ms-documentdb-query-iscontinuationexpected': 'REDACTED'\n",
      "    'x-ms-consistency-level': 'REDACTED'\n",
      "    'x-ms-session-token': 'REDACTED'\n",
      "    'x-ms-documentdb-partitionkey': 'REDACTED'\n",
      "    'x-ms-date': 'REDACTED'\n",
      "    'authorization': 'REDACTED'\n",
      "    'Content-Type': 'application/json'\n",
      "    'Accept': 'application/json'\n",
      "    'x-ms-documentdb-is-upsert': 'REDACTED'\n",
      "    'Content-Length': '2083'\n",
      "    'User-Agent': 'azsdk-python-cosmos/4.3.1 Python/3.10.9 (Windows-10-10.0.22621-SP0)'\n",
      "A body is sent with the request\n",
      "2023-05-24 17:13:52.231 INFO    azure.core.pipeline.policies.http_logging_policy: Response status: 200\n",
      "Response headers:\n",
      "    'Cache-Control': 'no-store, no-cache'\n",
      "    'Pragma': 'no-cache'\n",
      "    'Transfer-Encoding': 'chunked'\n",
      "    'Content-Type': 'application/json'\n",
      "    'Server': 'Microsoft-HTTPAPI/2.0'\n",
      "    'Strict-Transport-Security': 'REDACTED'\n",
      "    'x-ms-activity-id': 'REDACTED'\n",
      "    'x-ms-last-state-change-utc': 'REDACTED'\n",
      "    'etag': '\"3d004b8e-0000-0100-0000-646e8c210000\"'\n",
      "    'x-ms-resource-quota': 'REDACTED'\n",
      "    'x-ms-resource-usage': 'REDACTED'\n",
      "    'x-ms-schemaversion': 'REDACTED'\n",
      "    'lsn': 'REDACTED'\n",
      "    'x-ms-request-charge': 'REDACTED'\n",
      "    'x-ms-alt-content-path': 'REDACTED'\n",
      "    'x-ms-content-path': 'REDACTED'\n",
      "    'x-ms-quorum-acked-lsn': 'REDACTED'\n",
      "    'x-ms-current-write-quorum': 'REDACTED'\n",
      "    'x-ms-current-replica-set-size': 'REDACTED'\n",
      "    'x-ms-documentdb-partitionkeyrangeid': 'REDACTED'\n",
      "    'x-ms-xp-role': 'REDACTED'\n",
      "    'x-ms-global-Committed-lsn': 'REDACTED'\n",
      "    'x-ms-number-of-read-regions': 'REDACTED'\n",
      "    'x-ms-transport-request-id': 'REDACTED'\n",
      "    'x-ms-cosmos-llsn': 'REDACTED'\n",
      "    'x-ms-cosmos-quorum-acked-llsn': 'REDACTED'\n",
      "    'x-ms-session-token': 'REDACTED'\n",
      "    'x-ms-request-duration-ms': 'REDACTED'\n",
      "    'x-ms-serviceversion': 'REDACTED'\n",
      "    'x-ms-gatewayversion': 'REDACTED'\n",
      "    'Date': 'Wed, 24 May 2023 22:13:52 GMT'\n"
     ]
    },
    {
     "data": {
      "text/plain": [
       "\"You're welcome! Let me know if you have any other questions or if there's anything else I can help you with.\\nSOURCES: N/A\""
      ]
     },
     "execution_count": 31,
     "metadata": {},
     "output_type": "execute_result"
    }
   ],
   "source": [
    "# Another follow up query\n",
    "response = get_answer(docs=top_docs, query=\"Thank you\", language=\"English\", deployment=MODEL, chain_type=chain_type,  \n",
    "                      memory=memory)\n",
    "response['output_text']"
   ]
  },
  {
   "attachments": {},
   "cell_type": "markdown",
   "id": "cdc5ac98",
   "metadata": {},
   "source": [
    "Let's check our Azure CosmosDB to see the whole conversation\n"
   ]
  },
  {
   "cell_type": "code",
   "execution_count": 34,
   "id": "e1d7688a",
   "metadata": {},
   "outputs": [
    {
     "name": "stderr",
     "output_type": "stream",
     "text": [
      "2023-05-24 17:22:12.394 INFO    azure.core.pipeline.policies.http_logging_policy: Request URL: 'https://cosmosdb-account-onqlzkigt2nsi-eastus.documents.azure.com:443/dbs/cosmosdb-db-onqlzkigt2nsi/colls/cosmosdb-container-onqlzkigt2nsi/docs/001/'\n",
      "Request method: 'GET'\n",
      "Request headers:\n",
      "    'Cache-Control': 'no-cache'\n",
      "    'x-ms-version': 'REDACTED'\n",
      "    'x-ms-documentdb-query-iscontinuationexpected': 'REDACTED'\n",
      "    'x-ms-consistency-level': 'REDACTED'\n",
      "    'x-ms-session-token': 'REDACTED'\n",
      "    'x-ms-documentdb-partitionkey': 'REDACTED'\n",
      "    'x-ms-date': 'REDACTED'\n",
      "    'authorization': 'REDACTED'\n",
      "    'Accept': 'application/json'\n",
      "    'Content-Length': '0'\n",
      "    'User-Agent': 'azsdk-python-cosmos/4.3.1 Python/3.10.9 (Windows-10-10.0.22621-SP0)'\n",
      "No body was attached to the request\n",
      "2023-05-24 17:22:12.851 INFO    azure.core.pipeline.policies.http_logging_policy: Response status: 200\n",
      "Response headers:\n",
      "    'Cache-Control': 'no-store, no-cache'\n",
      "    'Pragma': 'no-cache'\n",
      "    'Transfer-Encoding': 'chunked'\n",
      "    'Content-Type': 'application/json'\n",
      "    'Content-Location': 'REDACTED'\n",
      "    'Server': 'Microsoft-HTTPAPI/2.0'\n",
      "    'Strict-Transport-Security': 'REDACTED'\n",
      "    'x-ms-activity-id': 'REDACTED'\n",
      "    'x-ms-last-state-change-utc': 'REDACTED'\n",
      "    'etag': '\"3d004b8e-0000-0100-0000-646e8c210000\"'\n",
      "    'x-ms-resource-quota': 'REDACTED'\n",
      "    'x-ms-resource-usage': 'REDACTED'\n",
      "    'x-ms-schemaversion': 'REDACTED'\n",
      "    'lsn': 'REDACTED'\n",
      "    'x-ms-request-charge': 'REDACTED'\n",
      "    'x-ms-alt-content-path': 'REDACTED'\n",
      "    'x-ms-content-path': 'REDACTED'\n",
      "    'x-ms-documentdb-partitionkeyrangeid': 'REDACTED'\n",
      "    'x-ms-xp-role': 'REDACTED'\n",
      "    'x-ms-global-Committed-lsn': 'REDACTED'\n",
      "    'x-ms-number-of-read-regions': 'REDACTED'\n",
      "    'x-ms-item-lsn': 'REDACTED'\n",
      "    'x-ms-transport-request-id': 'REDACTED'\n",
      "    'x-ms-cosmos-llsn': 'REDACTED'\n",
      "    'x-ms-cosmos-item-llsn': 'REDACTED'\n",
      "    'x-ms-session-token': 'REDACTED'\n",
      "    'x-ms-request-duration-ms': 'REDACTED'\n",
      "    'x-ms-serviceversion': 'REDACTED'\n",
      "    'x-ms-gatewayversion': 'REDACTED'\n",
      "    'Date': 'Wed, 24 May 2023 22:22:13 GMT'\n"
     ]
    },
    {
     "data": {
      "text/plain": [
       "[HumanMessage(content='Tell me some use cases for reinforcement learning?', additional_kwargs={}, example=False),\n",
       " AIMessage(content='Reinforcement learning has numerous use cases, such as in board games, ensemble pruning, and machine learning using checkers. Additionally, reinforcement learning is increasingly being used in important applications, including routing. The success of learning algorithms depends on the richness of information about various behaviors and how effectively it is used. Unfortunately, the given portion of the document does not provide a direct answer to your question. \\nSOURCES: https://demodatasetsp.blob.core.windows.net/arxivcs/0611/0611163v1.pdf, https://demodatasetsp.blob.core.windows.net/arxivcs/0207/0207073v1.pdf, https://demodatasetsp.blob.core.windows.net/arxivcs/0105/0105027v1.pdf', additional_kwargs={}, example=False),\n",
       " HumanMessage(content='Can you rephrase what you just said?', additional_kwargs={}, example=False),\n",
       " AIMessage(content='I apologize for any confusion. What I meant to say is that reinforcement learning has various applications, including board games, ensemble pruning, and machine learning with checkers. In addition, reinforcement learning is increasingly being used in important applications such as routing. However, the given portion of the documents does not provide a direct answer to your question. Can you please provide more context or a specific question? \\nSOURCES: https://demodatasetsp.blob.core.windows.net/arxivcs/0611/0611163v1.pdf, https://demodatasetsp.blob.core.windows.net/arxivcs/0207/0207073v1.pdf, https://demodatasetsp.blob.core.windows.net/arxivcs/0105/0105027v1.pdf', additional_kwargs={}, example=False),\n",
       " HumanMessage(content='Thank you', additional_kwargs={}, example=False),\n",
       " AIMessage(content=\"You're welcome! Let me know if you have any other questions or if there's anything else I can help you with.\\nSOURCES: N/A\", additional_kwargs={}, example=False)]"
      ]
     },
     "execution_count": 34,
     "metadata": {},
     "output_type": "execute_result"
    }
   ],
   "source": [
    "#load message from cosmosdb\n",
    "\n",
    "cosmos.load_messages()\n",
    "cosmos.messages"
   ]
  },
  {
   "attachments": {},
   "cell_type": "markdown",
   "id": "6789cada-23a3-451a-a91a-0906ceb0bd14",
   "metadata": {},
   "source": [
    "# Summary\n",
    "##### Adding memory to our application allows the user to have a conversation, however this feature is not something that comes with the LLM, but instead, memory is something that we must provide to the LLM in form of context of the question.\n",
    "\n",
    "We also can notice that the current chain that we are using is smart, but not that much. Although we have given memory to it, it searches for similar docs everytime, it struggles to respond to prompts like: Hello, Thank you, Bye, What's your name, What's the weather and any other task that is not search in the knowledge base\n",
    "\n"
   ]
  },
  {
   "attachments": {},
   "cell_type": "markdown",
   "id": "c629ebf4-aced-45b7-a6a2-315810d37d48",
   "metadata": {},
   "source": [
    "# NEXT\n",
    "We know now how to do a Smart Search Engine that can power a chatbot!! great!\n",
    "\n",
    "But, does this solve all the possible scenarios that a virtual assistant will require?  **What about if the answer to the Smart Search Engine is not related to text, but instead requires to look into tabular data?** The next notebook 05 explains and solves the tabular problem and the concept of Agents"
   ]
  },
  {
   "cell_type": "code",
   "execution_count": null,
   "id": "2ff9cbd8-612d-4e3b-957c-7c829d84cad0",
   "metadata": {},
   "outputs": [],
   "source": []
  }
 ],
 "metadata": {
  "kernelspec": {
   "display_name": "Python-3-10",
   "language": "python",
   "name": "python3"
  },
  "language_info": {
   "codemirror_mode": {
    "name": "ipython",
    "version": 3
   },
   "file_extension": ".py",
   "mimetype": "text/x-python",
   "name": "python",
   "nbconvert_exporter": "python",
   "pygments_lexer": "ipython3",
   "version": "3.10.9"
  }
 },
 "nbformat": 4,
 "nbformat_minor": 5
}
